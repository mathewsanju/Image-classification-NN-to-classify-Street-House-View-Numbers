{
 "cells": [
  {
   "cell_type": "markdown",
   "metadata": {
    "colab_type": "text",
    "id": "lO11-c_0OtzO"
   },
   "source": [
    "## Sanju Mathew - Project on Neural Networks\n",
    "\n",
    "### Objective\n",
    "* The objective of the project is to learn how to implement a simple image classification pipeline based on a deep neural network.\n",
    "\n",
    "#### Task: Data fetching and understanding the train/val/test splits."
   ]
  },
  {
   "cell_type": "code",
   "execution_count": 1,
   "metadata": {
    "colab": {
     "base_uri": "https://localhost:8080/",
     "height": 125
    },
    "colab_type": "code",
    "id": "9VVj03aEP1vY",
    "outputId": "055ab211-7dac-4b09-dd4b-6f5044846c13"
   },
   "outputs": [
    {
     "name": "stdout",
     "output_type": "stream",
     "text": [
      "Go to this URL in a browser: https://accounts.google.com/o/oauth2/auth?client_id=947318989803-6bn6qk8qdgf4n4g3pfee6491hc0brc4i.apps.googleusercontent.com&redirect_uri=urn%3aietf%3awg%3aoauth%3a2.0%3aoob&response_type=code&scope=email%20https%3a%2f%2fwww.googleapis.com%2fauth%2fdocs.test%20https%3a%2f%2fwww.googleapis.com%2fauth%2fdrive%20https%3a%2f%2fwww.googleapis.com%2fauth%2fdrive.photos.readonly%20https%3a%2f%2fwww.googleapis.com%2fauth%2fpeopleapi.readonly\n",
      "\n",
      "Enter your authorization code:\n",
      "··········\n",
      "Mounted at /content/drive/\n"
     ]
    }
   ],
   "source": [
    "from google.colab import drive\n",
    "drive.mount('/content/drive/')"
   ]
  },
  {
   "cell_type": "code",
   "execution_count": 2,
   "metadata": {
    "colab": {
     "base_uri": "https://localhost:8080/",
     "height": 52
    },
    "colab_type": "code",
    "id": "_t6sheBwOtzP",
    "outputId": "bd7df62a-d040-4f11-ee70-b2a18e9d9d7b"
   },
   "outputs": [
    {
     "name": "stderr",
     "output_type": "stream",
     "text": [
      "Using TensorFlow backend.\n"
     ]
    },
    {
     "data": {
      "text/plain": [
       "'2.2.0'"
      ]
     },
     "execution_count": 2,
     "metadata": {
      "tags": []
     },
     "output_type": "execute_result"
    }
   ],
   "source": [
    "import tensorflow\n",
    "import keras\n",
    "import h5py\n",
    "import numpy as np\n",
    "import pandas as pd\n",
    "import warnings\n",
    "import matplotlib.pyplot as plt\n",
    "import math\n",
    "\n",
    "from keras.models import Sequential\n",
    "from keras.utils.np_utils import to_categorical\n",
    "from keras.layers import Activation, Dense, BatchNormalization, Dropout\n",
    "from keras import optimizers, regularizers\n",
    "from sklearn.metrics import accuracy_score, confusion_matrix, precision_score, recall_score, f1_score\n",
    "\n",
    "%matplotlib inline\n",
    "warnings.filterwarnings(\"ignore\")\n",
    "tensorflow.__version__"
   ]
  },
  {
   "cell_type": "code",
   "execution_count": 3,
   "metadata": {
    "colab": {
     "base_uri": "https://localhost:8080/",
     "height": 35
    },
    "colab_type": "code",
    "id": "VFL0oluVOtzT",
    "outputId": "d7312d10-7875-4f4d-b94a-8fcb89c03c7c"
   },
   "outputs": [
    {
     "name": "stdout",
     "output_type": "stream",
     "text": [
      "(42000, 32, 32) (42000,) (18000, 32, 32) (18000,)\n"
     ]
    }
   ],
   "source": [
    "Data = h5py.File('/content/drive/My Drive/DLCP/SVHN/data/SVHN_single_grey1.h5','r')\n",
    "X_train = Data['X_train'][:]\n",
    "y_train = Data['y_train'][:]\n",
    "X_test = Data['X_test'][:]\n",
    "y_test = Data['y_test'][:]\n",
    "Data.close()\n",
    "\n",
    "print(X_train.shape, y_train.shape, X_test.shape, y_test.shape)"
   ]
  },
  {
   "cell_type": "code",
   "execution_count": 4,
   "metadata": {
    "colab": {
     "base_uri": "https://localhost:8080/",
     "height": 283
    },
    "colab_type": "code",
    "id": "xdEMw9sAOtzX",
    "outputId": "096257ea-7daa-44aa-c2b4-64bc4c5758dd",
    "scrolled": false
   },
   "outputs": [
    {
     "data": {
      "image/png": "[encoded data removed]",
      "text/plain": [
       "<Figure size 432x288 with 1 Axes>"
      ]
     },
     "metadata": {
      "needs_background": "light",
      "tags": []
     },
     "output_type": "display_data"
    },
    {
     "name": "stdout",
     "output_type": "stream",
     "text": [
      "Label:  2\n"
     ]
    }
   ],
   "source": [
    "plt.imshow(X_train[0], cmap='gray')\n",
    "plt.show()\n",
    "print('Label: ', y_train[0])"
   ]
  },
  {
   "cell_type": "code",
   "execution_count": 5,
   "metadata": {
    "colab": {
     "base_uri": "https://localhost:8080/",
     "height": 283
    },
    "colab_type": "code",
    "id": "CUC1zbWdOtzZ",
    "outputId": "fafbdb38-876a-4ffd-d6ba-7b27458d99c7"
   },
   "outputs": [
    {
     "data": {
      "image/png": "[encoded data removed]",
      "text/plain": [
       "<Figure size 432x288 with 1 Axes>"
      ]
     },
     "metadata": {
      "needs_background": "light",
      "tags": []
     },
     "output_type": "display_data"
    },
    {
     "name": "stdout",
     "output_type": "stream",
     "text": [
      "Label:  1\n"
     ]
    }
   ],
   "source": [
    "plt.imshow(X_test[0], cmap='gray')\n",
    "plt.show()\n",
    "print('Label: ', y_test[0])"
   ]
  },
  {
   "cell_type": "code",
   "execution_count": 6,
   "metadata": {
    "colab": {
     "base_uri": "https://localhost:8080/",
     "height": 52
    },
    "colab_type": "code",
    "id": "SOJlQfLvOtzc",
    "outputId": "5e2d4ad4-a6af-4859-a20d-82ec11f90b27"
   },
   "outputs": [
    {
     "data": {
      "text/plain": [
       "(array([0, 1, 2, 3, 4, 5, 6, 7, 8, 9], dtype=uint8),\n",
       " array([4186, 4172, 4197, 4281, 4188, 4232, 4168, 4192, 4188, 4196]))"
      ]
     },
     "execution_count": 6,
     "metadata": {
      "tags": []
     },
     "output_type": "execute_result"
    }
   ],
   "source": [
    "np.unique(y_train, return_counts=True)"
   ]
  },
  {
   "cell_type": "code",
   "execution_count": 7,
   "metadata": {
    "colab": {
     "base_uri": "https://localhost:8080/",
     "height": 52
    },
    "colab_type": "code",
    "id": "3bpfRVABOtze",
    "outputId": "7a78befa-7917-45d2-f4f7-c7aa3ca54338"
   },
   "outputs": [
    {
     "data": {
      "text/plain": [
       "(array([0, 1, 2, 3, 4, 5, 6, 7, 8, 9], dtype=uint8),\n",
       " array([1814, 1828, 1803, 1719, 1812, 1768, 1832, 1808, 1812, 1804]))"
      ]
     },
     "execution_count": 7,
     "metadata": {
      "tags": []
     },
     "output_type": "execute_result"
    }
   ],
   "source": [
    "np.unique(y_test, return_counts=True)"
   ]
  },
  {
   "cell_type": "code",
   "execution_count": 8,
   "metadata": {
    "colab": {
     "base_uri": "https://localhost:8080/",
     "height": 35
    },
    "colab_type": "code",
    "id": "3ZNIET9tOtzg",
    "outputId": "18fca35d-cb40-4f44-f3b7-ea8a7a666abd"
   },
   "outputs": [
    {
     "name": "stdout",
     "output_type": "stream",
     "text": [
      "(42000, 1024) (18000, 1024) (42000, 10) (18000, 10)\n"
     ]
    }
   ],
   "source": [
    "X_train = X_train.reshape((X_train.shape[0], -1))\n",
    "X_test = X_test.reshape((X_test.shape[0], -1))\n",
    "X_train = X_train / 255.0\n",
    "X_test = X_test / 255.0\n",
    "y_train = to_categorical(y_train,num_classes=10)\n",
    "y_test = to_categorical(y_test,num_classes=10)\n",
    "print(X_train.shape, X_test.shape, y_train.shape, y_test.shape)"
   ]
  },
  {
   "cell_type": "markdown",
   "metadata": {},
   "source": [
    "* Reshape input\n",
    "* Normalise\n",
    "* One hot encode labels"
   ]
  },
  {
   "cell_type": "code",
   "execution_count": 9,
   "metadata": {
    "colab": {
     "base_uri": "https://localhost:8080/",
     "height": 35
    },
    "colab_type": "code",
    "id": "gfvXfXzBOtzi",
    "outputId": "31d5e360-c03a-4bf4-94f2-205100eebde6"
   },
   "outputs": [
    {
     "data": {
      "text/plain": [
       "array([0., 0., 1., 0., 0., 0., 0., 0., 0., 0.], dtype=float32)"
      ]
     },
     "execution_count": 9,
     "metadata": {
      "tags": []
     },
     "output_type": "execute_result"
    }
   ],
   "source": [
    "y_train[0]"
   ]
  },
  {
   "cell_type": "markdown",
   "metadata": {
    "colab_type": "text",
    "id": "lGKYUd-munFe"
   },
   "source": [
    "#### Task: Implement and apply a deep neural network classifier including feedforward neural network, RELU, activations"
   ]
  },
  {
   "cell_type": "code",
   "execution_count": 0,
   "metadata": {
    "colab": {},
    "colab_type": "code",
    "id": "1BYunC8HOtzw"
   },
   "outputs": [],
   "source": [
    "# lr = 0.00001\n",
    "# Lambda = 0\n",
    "# train_and_test_loop(X_train, y_train, 1, lr, Lambda)"
   ]
  },
  {
   "cell_type": "code",
   "execution_count": 0,
   "metadata": {
    "colab": {},
    "colab_type": "code",
    "id": "62Qk0mqfOtzy"
   },
   "outputs": [],
   "source": [
    "# lr = 0.00001\n",
    "# Lambda = 1e3\n",
    "# train_and_test_loop(X_train, y_train, 1, lr, Lambda)"
   ]
  },
  {
   "cell_type": "code",
   "execution_count": 0,
   "metadata": {
    "colab": {},
    "colab_type": "code",
    "id": "PutMxKfyOtz0"
   },
   "outputs": [],
   "source": [
    "# X_train_subset = X_train[0:20]\n",
    "# y_train_subset = y_train[0:20]"
   ]
  },
  {
   "cell_type": "code",
   "execution_count": 0,
   "metadata": {
    "colab": {},
    "colab_type": "code",
    "id": "GfNpfvOBOtz2"
   },
   "outputs": [],
   "source": [
    "# lr = 0.001\n",
    "# Lambda = 0\n",
    "# train_and_test_loop(X_train_subset, y_train_subset, 500, lr, Lambda)"
   ]
  },
  {
   "cell_type": "code",
   "execution_count": 0,
   "metadata": {
    "colab": {},
    "colab_type": "code",
    "id": "3aGqczQROtz4"
   },
   "outputs": [],
   "source": [
    "# lr = 1e-7\n",
    "# Lambda = 1e-7\n",
    "# train_and_test_loop(X_train, y_train, 20, lr, Lambda)"
   ]
  },
  {
   "cell_type": "code",
   "execution_count": 0,
   "metadata": {
    "colab": {},
    "colab_type": "code",
    "id": "BNg-lS-hOtz6"
   },
   "outputs": [],
   "source": [
    "# lr = 1e8\n",
    "# Lambda = 1e-7\n",
    "# train_and_test_loop(X_train, y_train, 20, lr, Lambda)"
   ]
  },
  {
   "cell_type": "code",
   "execution_count": 0,
   "metadata": {
    "colab": {},
    "colab_type": "code",
    "id": "qsDbteGpOtz7"
   },
   "outputs": [],
   "source": [
    "# lr = 1e4\n",
    "# Lambda = 1e-7\n",
    "# train_and_test_loop(X_train, y_train, 20, lr, Lambda)"
   ]
  },
  {
   "cell_type": "code",
   "execution_count": 0,
   "metadata": {
    "colab": {},
    "colab_type": "code",
    "id": "svLuFZINOtz9"
   },
   "outputs": [],
   "source": [
    "def train_and_test_loop_ht(iterations, lr, Lambda, verb=True):\n",
    "\n",
    "    ## hyperparameters\n",
    "    iterations = iterations\n",
    "    learning_rate = lr\n",
    "    hidden_nodes = 256\n",
    "    output_nodes = 10\n",
    "\n",
    "    model = Sequential()\n",
    "    model.add(Dense(hidden_nodes, input_shape=(1024,), activation='relu'))\n",
    "    model.add(Dense(hidden_nodes, activation='relu'))\n",
    "    model.add(Dense(output_nodes, activation='softmax', kernel_regularizer=regularizers.l2(Lambda)))\n",
    "    \n",
    "    sgd = optimizers.SGD(lr=learning_rate, decay=1e-6, momentum=0.9)\n",
    "    # Compile model\n",
    "    model.compile(loss='categorical_crossentropy', optimizer=sgd, metrics=['accuracy'])\n",
    "    \n",
    "    # Fit the model\n",
    "    model.fit(X_train, y_train, epochs=iterations, batch_size=1000, verbose= 0)\n",
    "    score = model.evaluate(X_train, y_train, verbose=0)\n",
    "    \n",
    "    return score"
   ]
  },
  {
   "cell_type": "code",
   "execution_count": 0,
   "metadata": {
    "colab": {},
    "colab_type": "code",
    "id": "ANzqDR8NunFw"
   },
   "outputs": [],
   "source": [
    "global df_Accuracy_Score\n",
    "df_Accuracy_Score = pd.DataFrame()\n",
    "\n",
    "def Score(Model, X_test,y_test, y_labels, Y_pred_cls):\n",
    "    Metrics, Score = ['Accuracy', 'Precision', 'Recall', 'F1 Score'], []      \n",
    "    Score.append(str(model.evaluate(X_test,y_test)[1]))\n",
    "    Score.append(str(precision_score(y_labels, Y_pred_cls, average='macro')))\n",
    "    Score.append(str(recall_score(y_labels,Y_pred_cls, average='macro')))\n",
    "    Score.append(str(f1_score(y_labels,Y_pred_cls, average='macro')))\n",
    "    df_Accuracy_Score['Metrics'], df_Accuracy_Score[Model] = Metrics, Score"
   ]
  },
  {
   "cell_type": "code",
   "execution_count": 0,
   "metadata": {
    "colab": {},
    "colab_type": "code",
    "id": "y6QA6JmBOtz_"
   },
   "outputs": [],
   "source": [
    "# for k in range(1,11):\n",
    "#     lr = math.pow(10, np.random.uniform(-4.0, 0.0))\n",
    "#     Lambda = math.pow(10, np.random.uniform(-7,-2))\n",
    "#     best_acc = train_and_test_loop_ht(100, lr, Lambda, False)\n",
    "#     print(\"Try {0}/{1}: Best_val_acc: {2}, lr: {3}, Lambda: {4}\\n\".format(k, 10, best_acc, lr, Lambda))"
   ]
  },
  {
   "cell_type": "code",
   "execution_count": 0,
   "metadata": {
    "colab": {},
    "colab_type": "code",
    "id": "1fVHJIGIOt0B"
   },
   "outputs": [],
   "source": [
    "# for k in range(1,11):\n",
    "#     lr = np.random.uniform(0.04, 0.05)\n",
    "#     Lambda = math.pow(10, np.random.uniform(-8,-5))\n",
    "#     best_acc = train_and_test_loop_ht(100, lr, Lambda, False)\n",
    "#     print(\"Try {0}/{1}: Best_val_acc: {2}, lr: {3}, Lambda: {4}\\n\".format(k, 10, best_acc, lr, Lambda))"
   ]
  },
  {
   "cell_type": "code",
   "execution_count": 0,
   "metadata": {
    "colab": {},
    "colab_type": "code",
    "id": "hdUwqnQpPdmf"
   },
   "outputs": [],
   "source": [
    "# for k in range(1,11):\n",
    "#     lr = np.random.uniform(0.045, 0.049)\n",
    "#     Lambda = np.random.uniform(0.000004,0.0000005)\n",
    "#     best_acc = train_and_test_loop_ht(100, lr, Lambda, False)\n",
    "#     print(\"Try {0}/{1}: Best_val_acc: {2}, lr: {3}, Lambda: {4}\\n\".format(k, 10, best_acc, lr, Lambda))"
   ]
  },
  {
   "cell_type": "markdown",
   "metadata": {},
   "source": [
    "#### Hyperparameter Optimization - Coarse to fine tuning\n",
    "* Check loss range & accuracy\n",
    "* Overfit a subset of the training data to check if model works\n",
    "* Identify learning rate & regularization lambda upper and lower limits \n",
    "* Hyperparameter tuning\n",
    "* After completing above steps below learning rate & regularization lambda was finalized for first Neural Network"
   ]
  },
  {
   "cell_type": "code",
   "execution_count": 22,
   "metadata": {
    "colab": {
     "base_uri": "https://localhost:8080/",
     "height": 1000
    },
    "colab_type": "code",
    "id": "IyhPbtrKt9bd",
    "outputId": "2bd32e57-60f3-49bf-d294-8fce0d76a90c"
   },
   "outputs": [
    {
     "name": "stdout",
     "output_type": "stream",
     "text": [
      "Train on 33600 samples, validate on 8400 samples\n",
      "Epoch 1/100\n",
      " - 1s - loss: 2.3040 - accuracy: 0.1183 - val_loss: 2.2831 - val_accuracy: 0.1499\n",
      "Epoch 2/100\n",
      " - 1s - loss: 2.2342 - accuracy: 0.2255 - val_loss: 2.1654 - val_accuracy: 0.3004\n",
      "Epoch 3/100\n",
      " - 1s - loss: 2.0127 - accuracy: 0.3620 - val_loss: 1.8365 - val_accuracy: 0.4135\n",
      "Epoch 4/100\n",
      " - 1s - loss: 1.7129 - accuracy: 0.4497 - val_loss: 1.6429 - val_accuracy: 0.4693\n",
      "Epoch 5/100\n",
      " - 1s - loss: 1.5286 - accuracy: 0.5010 - val_loss: 1.5291 - val_accuracy: 0.4819\n",
      "Epoch 6/100\n",
      " - 1s - loss: 1.3412 - accuracy: 0.5732 - val_loss: 1.5754 - val_accuracy: 0.4751\n",
      "Epoch 7/100\n",
      " - 1s - loss: 1.3433 - accuracy: 0.5718 - val_loss: 1.1789 - val_accuracy: 0.6365\n",
      "Epoch 8/100\n",
      " - 1s - loss: 1.1476 - accuracy: 0.6473 - val_loss: 1.0976 - val_accuracy: 0.6604\n",
      "Epoch 9/100\n",
      " - 1s - loss: 1.0922 - accuracy: 0.6630 - val_loss: 1.1029 - val_accuracy: 0.6504\n",
      "Epoch 10/100\n",
      " - 1s - loss: 1.0494 - accuracy: 0.6741 - val_loss: 1.0078 - val_accuracy: 0.6943\n",
      "Epoch 11/100\n",
      " - 1s - loss: 1.0176 - accuracy: 0.6826 - val_loss: 1.0648 - val_accuracy: 0.6669\n",
      "Epoch 12/100\n",
      " - 1s - loss: 0.9800 - accuracy: 0.6965 - val_loss: 0.9688 - val_accuracy: 0.6995\n",
      "Epoch 13/100\n",
      " - 1s - loss: 0.9413 - accuracy: 0.7095 - val_loss: 0.9767 - val_accuracy: 0.6973\n",
      "Epoch 14/100\n",
      " - 1s - loss: 0.9255 - accuracy: 0.7146 - val_loss: 0.9569 - val_accuracy: 0.7073\n",
      "Epoch 15/100\n",
      " - 1s - loss: 0.9081 - accuracy: 0.7188 - val_loss: 0.9194 - val_accuracy: 0.7173\n",
      "Epoch 16/100\n",
      " - 1s - loss: 0.8608 - accuracy: 0.7366 - val_loss: 0.8629 - val_accuracy: 0.7380\n",
      "Epoch 17/100\n",
      " - 1s - loss: 0.8186 - accuracy: 0.7495 - val_loss: 0.8758 - val_accuracy: 0.7258\n",
      "Epoch 18/100\n",
      " - 1s - loss: 0.8038 - accuracy: 0.7518 - val_loss: 0.8225 - val_accuracy: 0.7511\n",
      "Epoch 19/100\n",
      " - 1s - loss: 0.8305 - accuracy: 0.7417 - val_loss: 0.8741 - val_accuracy: 0.7323\n",
      "Epoch 20/100\n",
      " - 1s - loss: 0.8034 - accuracy: 0.7533 - val_loss: 0.8187 - val_accuracy: 0.7499\n",
      "Epoch 21/100\n",
      " - 1s - loss: 0.7514 - accuracy: 0.7696 - val_loss: 0.8051 - val_accuracy: 0.7548\n",
      "Epoch 22/100\n",
      " - 1s - loss: 0.7683 - accuracy: 0.7609 - val_loss: 0.8165 - val_accuracy: 0.7486\n",
      "Epoch 23/100\n",
      " - 1s - loss: 0.7143 - accuracy: 0.7817 - val_loss: 0.7780 - val_accuracy: 0.7656\n",
      "Epoch 24/100\n",
      " - 1s - loss: 0.7249 - accuracy: 0.7778 - val_loss: 0.8417 - val_accuracy: 0.7355\n",
      "Epoch 25/100\n",
      " - 1s - loss: 0.7204 - accuracy: 0.7797 - val_loss: 0.7651 - val_accuracy: 0.7685\n",
      "Epoch 26/100\n",
      " - 1s - loss: 0.6991 - accuracy: 0.7855 - val_loss: 0.7805 - val_accuracy: 0.7648\n",
      "Epoch 27/100\n",
      " - 1s - loss: 0.6742 - accuracy: 0.7935 - val_loss: 0.7776 - val_accuracy: 0.7598\n",
      "Epoch 28/100\n",
      " - 1s - loss: 0.6616 - accuracy: 0.7971 - val_loss: 0.7390 - val_accuracy: 0.7798\n",
      "Epoch 29/100\n",
      " - 1s - loss: 0.6692 - accuracy: 0.7932 - val_loss: 0.7266 - val_accuracy: 0.7789\n",
      "Epoch 30/100\n",
      " - 1s - loss: 0.6607 - accuracy: 0.7970 - val_loss: 0.6973 - val_accuracy: 0.7877\n",
      "Epoch 31/100\n",
      " - 1s - loss: 0.6224 - accuracy: 0.8102 - val_loss: 0.6790 - val_accuracy: 0.7948\n",
      "Epoch 32/100\n",
      " - 1s - loss: 0.6297 - accuracy: 0.8072 - val_loss: 0.7151 - val_accuracy: 0.7837\n",
      "Epoch 33/100\n",
      " - 1s - loss: 0.6306 - accuracy: 0.8052 - val_loss: 0.7203 - val_accuracy: 0.7799\n",
      "Epoch 34/100\n",
      " - 1s - loss: 0.5912 - accuracy: 0.8172 - val_loss: 0.7238 - val_accuracy: 0.7804\n",
      "Epoch 35/100\n",
      " - 1s - loss: 0.6071 - accuracy: 0.8119 - val_loss: 0.6993 - val_accuracy: 0.7918\n",
      "Epoch 36/100\n",
      " - 1s - loss: 0.6028 - accuracy: 0.8155 - val_loss: 0.7108 - val_accuracy: 0.7848\n",
      "Epoch 37/100\n",
      " - 1s - loss: 0.5831 - accuracy: 0.8189 - val_loss: 0.7253 - val_accuracy: 0.7808\n",
      "Epoch 38/100\n",
      " - 1s - loss: 0.5736 - accuracy: 0.8246 - val_loss: 0.6760 - val_accuracy: 0.8018\n",
      "Epoch 39/100\n",
      " - 1s - loss: 0.5685 - accuracy: 0.8252 - val_loss: 0.6477 - val_accuracy: 0.8074\n",
      "Epoch 40/100\n",
      " - 1s - loss: 0.5536 - accuracy: 0.8294 - val_loss: 0.6774 - val_accuracy: 0.7979\n",
      "Epoch 41/100\n",
      " - 1s - loss: 0.5454 - accuracy: 0.8325 - val_loss: 0.6658 - val_accuracy: 0.8007\n",
      "Epoch 42/100\n",
      " - 1s - loss: 0.5296 - accuracy: 0.8362 - val_loss: 0.6358 - val_accuracy: 0.8130\n",
      "Epoch 43/100\n",
      " - 1s - loss: 0.5356 - accuracy: 0.8339 - val_loss: 0.6562 - val_accuracy: 0.8055\n",
      "Epoch 44/100\n",
      " - 1s - loss: 0.5494 - accuracy: 0.8299 - val_loss: 0.7107 - val_accuracy: 0.7868\n",
      "Epoch 45/100\n",
      " - 1s - loss: 0.5326 - accuracy: 0.8345 - val_loss: 0.6670 - val_accuracy: 0.8012\n",
      "Epoch 46/100\n",
      " - 1s - loss: 0.5097 - accuracy: 0.8443 - val_loss: 0.6889 - val_accuracy: 0.7973\n",
      "Epoch 47/100\n",
      " - 1s - loss: 0.5510 - accuracy: 0.8302 - val_loss: 0.6378 - val_accuracy: 0.8136\n",
      "Epoch 48/100\n",
      " - 1s - loss: 0.5033 - accuracy: 0.8474 - val_loss: 0.6390 - val_accuracy: 0.8129\n",
      "Epoch 49/100\n",
      " - 1s - loss: 0.4868 - accuracy: 0.8531 - val_loss: 0.6145 - val_accuracy: 0.8214\n",
      "Epoch 50/100\n",
      " - 1s - loss: 0.4815 - accuracy: 0.8507 - val_loss: 0.6459 - val_accuracy: 0.8095\n",
      "Epoch 51/100\n",
      " - 1s - loss: 0.4692 - accuracy: 0.8572 - val_loss: 0.6660 - val_accuracy: 0.8070\n",
      "Epoch 52/100\n",
      " - 1s - loss: 0.5144 - accuracy: 0.8394 - val_loss: 0.6926 - val_accuracy: 0.7976\n",
      "Epoch 53/100\n",
      " - 1s - loss: 0.4810 - accuracy: 0.8515 - val_loss: 0.7041 - val_accuracy: 0.7952\n",
      "Epoch 54/100\n",
      " - 1s - loss: 0.4723 - accuracy: 0.8532 - val_loss: 0.6399 - val_accuracy: 0.8154\n",
      "Epoch 55/100\n",
      " - 1s - loss: 0.4791 - accuracy: 0.8501 - val_loss: 0.6538 - val_accuracy: 0.8090\n",
      "Epoch 56/100\n",
      " - 1s - loss: 0.4704 - accuracy: 0.8555 - val_loss: 0.6265 - val_accuracy: 0.8156\n",
      "Epoch 57/100\n",
      " - 1s - loss: 0.4679 - accuracy: 0.8557 - val_loss: 0.6287 - val_accuracy: 0.8202\n",
      "Epoch 58/100\n",
      " - 1s - loss: 0.4459 - accuracy: 0.8635 - val_loss: 0.6082 - val_accuracy: 0.8262\n",
      "Epoch 59/100\n",
      " - 1s - loss: 0.4324 - accuracy: 0.8677 - val_loss: 0.6197 - val_accuracy: 0.8213\n",
      "Epoch 60/100\n",
      " - 1s - loss: 0.4348 - accuracy: 0.8660 - val_loss: 0.6042 - val_accuracy: 0.8246\n",
      "Epoch 61/100\n",
      " - 1s - loss: 0.4185 - accuracy: 0.8713 - val_loss: 0.6363 - val_accuracy: 0.8119\n",
      "Epoch 62/100\n",
      " - 1s - loss: 0.4411 - accuracy: 0.8643 - val_loss: 0.6008 - val_accuracy: 0.8298\n",
      "Epoch 63/100\n",
      " - 1s - loss: 0.4320 - accuracy: 0.8663 - val_loss: 0.6225 - val_accuracy: 0.8201\n",
      "Epoch 64/100\n",
      " - 1s - loss: 0.4261 - accuracy: 0.8683 - val_loss: 0.6350 - val_accuracy: 0.8193\n",
      "Epoch 65/100\n",
      " - 1s - loss: 0.4102 - accuracy: 0.8735 - val_loss: 0.6236 - val_accuracy: 0.8246\n",
      "Epoch 66/100\n",
      " - 1s - loss: 0.4099 - accuracy: 0.8735 - val_loss: 0.6382 - val_accuracy: 0.8170\n",
      "Epoch 67/100\n",
      " - 1s - loss: 0.4107 - accuracy: 0.8728 - val_loss: 0.6374 - val_accuracy: 0.8199\n",
      "Epoch 68/100\n",
      " - 1s - loss: 0.4281 - accuracy: 0.8650 - val_loss: 0.6345 - val_accuracy: 0.8183\n",
      "Epoch 69/100\n",
      " - 1s - loss: 0.3967 - accuracy: 0.8785 - val_loss: 0.6436 - val_accuracy: 0.8168\n",
      "Epoch 70/100\n",
      " - 1s - loss: 0.3997 - accuracy: 0.8758 - val_loss: 0.6212 - val_accuracy: 0.8206\n",
      "Epoch 71/100\n",
      " - 1s - loss: 0.3925 - accuracy: 0.8794 - val_loss: 0.6504 - val_accuracy: 0.8155\n",
      "Epoch 72/100\n",
      " - 1s - loss: 0.3890 - accuracy: 0.8797 - val_loss: 0.6464 - val_accuracy: 0.8206\n",
      "Epoch 73/100\n",
      " - 1s - loss: 0.3882 - accuracy: 0.8798 - val_loss: 0.6141 - val_accuracy: 0.8314\n",
      "Epoch 74/100\n",
      " - 1s - loss: 0.3817 - accuracy: 0.8814 - val_loss: 0.6274 - val_accuracy: 0.8190\n",
      "Epoch 75/100\n",
      " - 1s - loss: 0.3829 - accuracy: 0.8802 - val_loss: 0.6056 - val_accuracy: 0.8321\n",
      "Epoch 76/100\n",
      " - 1s - loss: 0.3803 - accuracy: 0.8818 - val_loss: 0.6033 - val_accuracy: 0.8346\n",
      "Epoch 77/100\n",
      " - 1s - loss: 0.3629 - accuracy: 0.8878 - val_loss: 0.6132 - val_accuracy: 0.8319\n",
      "Epoch 78/100\n",
      " - 1s - loss: 0.3612 - accuracy: 0.8876 - val_loss: 0.6132 - val_accuracy: 0.8287\n",
      "Epoch 79/100\n",
      " - 1s - loss: 0.3619 - accuracy: 0.8880 - val_loss: 0.6031 - val_accuracy: 0.8294\n",
      "Epoch 80/100\n",
      " - 1s - loss: 0.3483 - accuracy: 0.8922 - val_loss: 0.6017 - val_accuracy: 0.8343\n",
      "Epoch 81/100\n",
      " - 1s - loss: 0.3437 - accuracy: 0.8932 - val_loss: 0.5992 - val_accuracy: 0.8317\n",
      "Epoch 82/100\n",
      " - 1s - loss: 0.3570 - accuracy: 0.8873 - val_loss: 0.6227 - val_accuracy: 0.8329\n",
      "Epoch 83/100\n",
      " - 1s - loss: 0.3450 - accuracy: 0.8923 - val_loss: 0.6382 - val_accuracy: 0.8201\n",
      "Epoch 84/100\n",
      " - 1s - loss: 0.3382 - accuracy: 0.8947 - val_loss: 0.6074 - val_accuracy: 0.8356\n",
      "Epoch 85/100\n",
      " - 1s - loss: 0.3523 - accuracy: 0.8908 - val_loss: 0.6133 - val_accuracy: 0.8327\n",
      "Epoch 86/100\n",
      " - 1s - loss: 0.3360 - accuracy: 0.8945 - val_loss: 0.5973 - val_accuracy: 0.8355\n",
      "Epoch 87/100\n",
      " - 1s - loss: 0.3323 - accuracy: 0.8957 - val_loss: 0.6188 - val_accuracy: 0.8318\n",
      "Epoch 88/100\n",
      " - 1s - loss: 0.3591 - accuracy: 0.8882 - val_loss: 0.6249 - val_accuracy: 0.8294\n",
      "Epoch 89/100\n",
      " - 1s - loss: 0.3330 - accuracy: 0.8955 - val_loss: 0.6201 - val_accuracy: 0.8312\n",
      "Epoch 90/100\n",
      " - 1s - loss: 0.3064 - accuracy: 0.9054 - val_loss: 0.6094 - val_accuracy: 0.8344\n",
      "Epoch 91/100\n",
      " - 1s - loss: 0.3067 - accuracy: 0.9056 - val_loss: 0.6023 - val_accuracy: 0.8357\n",
      "Epoch 92/100\n",
      " - 1s - loss: 0.3049 - accuracy: 0.9052 - val_loss: 0.6026 - val_accuracy: 0.8383\n",
      "Epoch 93/100\n",
      " - 1s - loss: 0.2969 - accuracy: 0.9092 - val_loss: 0.6252 - val_accuracy: 0.8282\n",
      "Epoch 94/100\n",
      " - 1s - loss: 0.3179 - accuracy: 0.9003 - val_loss: 0.6340 - val_accuracy: 0.8312\n",
      "Epoch 95/100\n",
      " - 1s - loss: 0.3088 - accuracy: 0.9042 - val_loss: 0.6203 - val_accuracy: 0.8345\n",
      "Epoch 96/100\n",
      " - 1s - loss: 0.3028 - accuracy: 0.9071 - val_loss: 0.6506 - val_accuracy: 0.8276\n",
      "Epoch 97/100\n",
      " - 1s - loss: 0.3157 - accuracy: 0.9016 - val_loss: 0.6343 - val_accuracy: 0.8315\n",
      "Epoch 98/100\n",
      " - 1s - loss: 0.2997 - accuracy: 0.9068 - val_loss: 0.6264 - val_accuracy: 0.8319\n",
      "Epoch 99/100\n",
      " - 1s - loss: 0.3043 - accuracy: 0.9041 - val_loss: 0.6295 - val_accuracy: 0.8348\n",
      "Epoch 100/100\n",
      " - 1s - loss: 0.2849 - accuracy: 0.9108 - val_loss: 0.6074 - val_accuracy: 0.8398\n"
     ]
    },
    {
     "data": {
      "text/plain": [
       "<keras.callbacks.callbacks.History at 0x7fc67e8de320>"
      ]
     },
     "execution_count": 22,
     "metadata": {
      "tags": []
     },
     "output_type": "execute_result"
    }
   ],
   "source": [
    "learning_rate = 0.04765542214558115\n",
    "Lambda = 2.913984989218504e-06\n",
    "hidden_nodes = 256\n",
    "output_nodes = 10\n",
    "\n",
    "model = Sequential()\n",
    "model.add(Dense(hidden_nodes, input_shape=(1024,), activation='relu'))\n",
    "model.add(Dense(hidden_nodes, activation='relu'))\n",
    "model.add(Dense(output_nodes, activation='softmax', kernel_regularizer=regularizers.l2(Lambda)))\n",
    "\n",
    "sgd = optimizers.SGD(lr=learning_rate, decay=1e-6, momentum=0.9)\n",
    "# Compile model\n",
    "model.compile(loss='categorical_crossentropy', optimizer=sgd, metrics=['accuracy'])\n",
    "\n",
    "# Fit the model\n",
    "model.fit(X_train, y_train, validation_split = 0.20, epochs=100, shuffle = True, batch_size=1000, verbose= 2)"
   ]
  },
  {
   "cell_type": "code",
   "execution_count": 23,
   "metadata": {
    "colab": {
     "base_uri": "https://localhost:8080/",
     "height": 263
    },
    "colab_type": "code",
    "id": "SfVwwnN7CgF0",
    "outputId": "9f5acebc-234b-4c2a-dfc9-e5608ef29cec"
   },
   "outputs": [
    {
     "name": "stdout",
     "output_type": "stream",
     "text": [
      "Model: \"sequential_1\"\n",
      "_________________________________________________________________\n",
      "Layer (type)                 Output Shape              Param #   \n",
      "=================================================================\n",
      "dense_1 (Dense)              (None, 256)               262400    \n",
      "_________________________________________________________________\n",
      "dense_2 (Dense)              (None, 256)               65792     \n",
      "_________________________________________________________________\n",
      "dense_3 (Dense)              (None, 10)                2570      \n",
      "=================================================================\n",
      "Total params: 330,762\n",
      "Trainable params: 330,762\n",
      "Non-trainable params: 0\n",
      "_________________________________________________________________\n"
     ]
    }
   ],
   "source": [
    "model.summary()"
   ]
  },
  {
   "cell_type": "code",
   "execution_count": 24,
   "metadata": {
    "colab": {
     "base_uri": "https://localhost:8080/",
     "height": 52
    },
    "colab_type": "code",
    "id": "ZfdjOZGrA0oU",
    "outputId": "8f4bdedd-dab1-4495-f997-855f398f326a"
   },
   "outputs": [
    {
     "name": "stdout",
     "output_type": "stream",
     "text": [
      "18000/18000 [==============================] - 1s 40us/step\n",
      "Test accuracy:  0.8357222080230713\n"
     ]
    }
   ],
   "source": [
    "results = model.evaluate(X_test, y_test)\n",
    "print('Test accuracy: ', results[1])"
   ]
  },
  {
   "cell_type": "code",
   "execution_count": 25,
   "metadata": {
    "colab": {
     "base_uri": "https://localhost:8080/",
     "height": 299
    },
    "colab_type": "code",
    "id": "CaCx5rVSJBHx",
    "outputId": "f8f17a30-0036-4367-9123-6564d8ace1ef"
   },
   "outputs": [
    {
     "name": "stdout",
     "output_type": "stream",
     "text": [
      "18000/18000 [==============================] - 1s 43us/step\n",
      "Accuracy: 0.8357222080230713\n",
      "Recall_score: 0.8355198542572433\n",
      "Precision_score: 0.8379401971779197\n",
      "F-score: 0.8358035411444584\n",
      "18000/18000 [==============================] - 1s 42us/step\n"
     ]
    },
    {
     "data": {
      "text/plain": [
       "array([[1638,   16,    7,   25,   16,    5,   33,   13,   25,   36],\n",
       "       [  30, 1558,   20,   42,   38,    6,   32,   53,   33,   16],\n",
       "       [  31,   18, 1484,   63,   25,   17,   10,   68,   35,   52],\n",
       "       [  18,   23,   17, 1427,    7,   83,   41,   33,   37,   33],\n",
       "       [  31,   38,   21,   33, 1533,   12,   51,   12,   43,   38],\n",
       "       [  29,   10,    8,  128,    8, 1386,   83,    7,   63,   46],\n",
       "       [  50,   17,   14,   24,   23,   40, 1545,   10,   90,   19],\n",
       "       [  34,   63,   28,   42,   10,    6,   14, 1575,   12,   24],\n",
       "       [  33,   24,   21,   70,   13,   27,   97,   13, 1467,   47],\n",
       "       [  89,   23,   17,   56,   18,   56,   26,   25,   64, 1430]])"
      ]
     },
     "execution_count": 25,
     "metadata": {
      "tags": []
     },
     "output_type": "execute_result"
    }
   ],
   "source": [
    "Y_pred_cls = model.predict_classes(X_test, batch_size=200, verbose=0)\n",
    "y_labels = np.argmax(y_test, axis=1)\n",
    "print('Accuracy: '+ str(model.evaluate(X_test,y_test)[1]))\n",
    "print('Recall_score: ' + str(recall_score(y_labels,Y_pred_cls, average='macro')))\n",
    "print('Precision_score: ' + str(precision_score(y_labels, Y_pred_cls, average='macro')))\n",
    "print('F-score: ' + str(f1_score(y_labels,Y_pred_cls, average='macro')))\n",
    "Score('NN', X_test,y_test, y_labels, Y_pred_cls)\n",
    "confusion_matrix(y_labels, Y_pred_cls)"
   ]
  },
  {
   "cell_type": "markdown",
   "metadata": {
    "colab_type": "text",
    "id": "KuLzgFBgunF_"
   },
   "source": [
    "#### Task: Implementing batch normalization for training the neural network"
   ]
  },
  {
   "cell_type": "code",
   "execution_count": 0,
   "metadata": {
    "colab": {},
    "colab_type": "code",
    "id": "_oCMqbnW5BUq"
   },
   "outputs": [],
   "source": [
    "def train_and_test_loop_ht(iterations, lr, verb=True):\n",
    "\n",
    "    ## hyperparameters\n",
    "    iterations = iterations\n",
    "    learning_rate = lr\n",
    "    hidden_nodes = 256\n",
    "    output_nodes = 10\n",
    "\n",
    "    model = Sequential()\n",
    "    model.add(Dense(hidden_nodes, input_shape=(1024,), kernel_initializer='he_normal'))\n",
    "    model.add(BatchNormalization())\n",
    "    model.add(Activation('relu'))\n",
    "    model.add(Dense(hidden_nodes))\n",
    "    model.add(BatchNormalization())\n",
    "    model.add(Activation('relu'))\n",
    "    model.add(Dense(output_nodes))\n",
    "    model.add(Activation('softmax'))\n",
    "    \n",
    "    adam = optimizers.Adam(lr = lr)\n",
    "    model.compile(optimizer = adam, loss = 'categorical_crossentropy', metrics = ['accuracy'])\n",
    "    \n",
    "    # Fit the model\n",
    "    model.fit(X_train, y_train, epochs=iterations, batch_size=1000, verbose= 0)\n",
    "    score = model.evaluate(X_train, y_train, verbose=0)\n",
    "    \n",
    "    return score"
   ]
  },
  {
   "cell_type": "code",
   "execution_count": 0,
   "metadata": {
    "colab": {},
    "colab_type": "code",
    "id": "AAV2A_16Ot0D"
   },
   "outputs": [],
   "source": [
    "# for k in range(1,11):\n",
    "#     lr = math.pow(10, np.random.uniform(-4.0, -1.0))\n",
    "#     best_acc = train_and_test_loop_ht(100, lr, False)\n",
    "#     print(\"Try {0}/{1}: Best_val_acc: {2}, lr: {3}\\n\".format(k, 10, best_acc, lr))"
   ]
  },
  {
   "cell_type": "markdown",
   "metadata": {},
   "source": [
    "* Batch Normalization & Adam optimizer applied \n",
    "* Multiple rounds of hyperparameter tuning completed\n",
    "* After completing above steps below learning rate was finalized for second Neural Network with batch normalization"
   ]
  },
  {
   "cell_type": "code",
   "execution_count": 28,
   "metadata": {
    "colab": {
     "base_uri": "https://localhost:8080/",
     "height": 1000
    },
    "colab_type": "code",
    "id": "KO8GObR_2Der",
    "outputId": "74af001b-61c8-4815-d2e5-7f559ae99b27"
   },
   "outputs": [
    {
     "name": "stdout",
     "output_type": "stream",
     "text": [
      "Train on 33600 samples, validate on 8400 samples\n",
      "Epoch 1/100\n",
      " - 2s - loss: 1.7519 - accuracy: 0.4173 - val_loss: 2.6617 - val_accuracy: 0.2676\n",
      "Epoch 2/100\n",
      " - 2s - loss: 1.0370 - accuracy: 0.6762 - val_loss: 1.4875 - val_accuracy: 0.5290\n",
      "Epoch 3/100\n",
      " - 2s - loss: 0.8608 - accuracy: 0.7319 - val_loss: 1.3706 - val_accuracy: 0.5570\n",
      "Epoch 4/100\n",
      " - 2s - loss: 0.7362 - accuracy: 0.7709 - val_loss: 1.4252 - val_accuracy: 0.5719\n",
      "Epoch 5/100\n",
      " - 2s - loss: 0.6473 - accuracy: 0.7979 - val_loss: 1.3231 - val_accuracy: 0.6031\n",
      "Epoch 6/100\n",
      " - 2s - loss: 0.5953 - accuracy: 0.8140 - val_loss: 1.3795 - val_accuracy: 0.5727\n",
      "Epoch 7/100\n",
      " - 2s - loss: 0.5692 - accuracy: 0.8222 - val_loss: 1.5360 - val_accuracy: 0.5790\n",
      "Epoch 8/100\n",
      " - 2s - loss: 0.5254 - accuracy: 0.8361 - val_loss: 1.5399 - val_accuracy: 0.5964\n",
      "Epoch 9/100\n",
      " - 2s - loss: 0.4953 - accuracy: 0.8434 - val_loss: 1.2605 - val_accuracy: 0.6119\n",
      "Epoch 10/100\n",
      " - 2s - loss: 0.4507 - accuracy: 0.8585 - val_loss: 1.5356 - val_accuracy: 0.6018\n",
      "Epoch 11/100\n",
      " - 2s - loss: 0.4474 - accuracy: 0.8593 - val_loss: 1.0155 - val_accuracy: 0.6923\n",
      "Epoch 12/100\n",
      " - 2s - loss: 0.4063 - accuracy: 0.8721 - val_loss: 1.1760 - val_accuracy: 0.6696\n",
      "Epoch 13/100\n",
      " - 2s - loss: 0.3781 - accuracy: 0.8803 - val_loss: 2.0739 - val_accuracy: 0.5577\n",
      "Epoch 14/100\n",
      " - 2s - loss: 0.3618 - accuracy: 0.8855 - val_loss: 1.1041 - val_accuracy: 0.6694\n",
      "Epoch 15/100\n",
      " - 2s - loss: 0.3570 - accuracy: 0.8853 - val_loss: 2.3230 - val_accuracy: 0.5323\n",
      "Epoch 16/100\n",
      " - 1s - loss: 0.3210 - accuracy: 0.8985 - val_loss: 1.0131 - val_accuracy: 0.7186\n",
      "Epoch 17/100\n",
      " - 2s - loss: 0.2911 - accuracy: 0.9073 - val_loss: 1.4815 - val_accuracy: 0.6676\n",
      "Epoch 18/100\n",
      " - 1s - loss: 0.2965 - accuracy: 0.9042 - val_loss: 1.2638 - val_accuracy: 0.6871\n",
      "Epoch 19/100\n",
      " - 1s - loss: 0.2878 - accuracy: 0.9083 - val_loss: 2.0254 - val_accuracy: 0.6124\n",
      "Epoch 20/100\n",
      " - 1s - loss: 0.2688 - accuracy: 0.9149 - val_loss: 1.9736 - val_accuracy: 0.6218\n",
      "Epoch 21/100\n",
      " - 1s - loss: 0.2579 - accuracy: 0.9168 - val_loss: 1.5519 - val_accuracy: 0.6289\n",
      "Epoch 22/100\n",
      " - 1s - loss: 0.2500 - accuracy: 0.9185 - val_loss: 1.6358 - val_accuracy: 0.6298\n",
      "Epoch 23/100\n",
      " - 1s - loss: 0.2182 - accuracy: 0.9317 - val_loss: 1.0998 - val_accuracy: 0.7257\n",
      "Epoch 24/100\n",
      " - 1s - loss: 0.1997 - accuracy: 0.9366 - val_loss: 1.1893 - val_accuracy: 0.7011\n",
      "Epoch 25/100\n",
      " - 1s - loss: 0.2099 - accuracy: 0.9320 - val_loss: 1.1114 - val_accuracy: 0.7333\n",
      "Epoch 26/100\n",
      " - 2s - loss: 0.1873 - accuracy: 0.9409 - val_loss: 1.3688 - val_accuracy: 0.6862\n",
      "Epoch 27/100\n",
      " - 1s - loss: 0.1802 - accuracy: 0.9418 - val_loss: 1.6258 - val_accuracy: 0.6255\n",
      "Epoch 28/100\n",
      " - 2s - loss: 0.1744 - accuracy: 0.9442 - val_loss: 1.2457 - val_accuracy: 0.7258\n",
      "Epoch 29/100\n",
      " - 2s - loss: 0.1743 - accuracy: 0.9442 - val_loss: 1.4031 - val_accuracy: 0.6929\n",
      "Epoch 30/100\n",
      " - 2s - loss: 0.1566 - accuracy: 0.9500 - val_loss: 1.1973 - val_accuracy: 0.7170\n",
      "Epoch 31/100\n",
      " - 2s - loss: 0.1549 - accuracy: 0.9502 - val_loss: 1.4474 - val_accuracy: 0.7033\n",
      "Epoch 32/100\n",
      " - 2s - loss: 0.1285 - accuracy: 0.9606 - val_loss: 1.2313 - val_accuracy: 0.7407\n",
      "Epoch 33/100\n",
      " - 2s - loss: 0.1295 - accuracy: 0.9592 - val_loss: 1.4470 - val_accuracy: 0.7033\n",
      "Epoch 34/100\n",
      " - 2s - loss: 0.1437 - accuracy: 0.9539 - val_loss: 1.5835 - val_accuracy: 0.6760\n",
      "Epoch 35/100\n",
      " - 2s - loss: 0.1405 - accuracy: 0.9554 - val_loss: 1.7313 - val_accuracy: 0.6854\n",
      "Epoch 36/100\n",
      " - 2s - loss: 0.1287 - accuracy: 0.9585 - val_loss: 2.0792 - val_accuracy: 0.6305\n",
      "Epoch 37/100\n",
      " - 2s - loss: 0.1202 - accuracy: 0.9615 - val_loss: 1.5011 - val_accuracy: 0.7043\n",
      "Epoch 38/100\n",
      " - 2s - loss: 0.1048 - accuracy: 0.9676 - val_loss: 1.2227 - val_accuracy: 0.7444\n",
      "Epoch 39/100\n",
      " - 2s - loss: 0.1050 - accuracy: 0.9669 - val_loss: 1.6207 - val_accuracy: 0.6955\n",
      "Epoch 40/100\n",
      " - 2s - loss: 0.1140 - accuracy: 0.9635 - val_loss: 1.4618 - val_accuracy: 0.7019\n",
      "Epoch 41/100\n",
      " - 2s - loss: 0.0996 - accuracy: 0.9679 - val_loss: 1.5441 - val_accuracy: 0.7010\n",
      "Epoch 42/100\n",
      " - 2s - loss: 0.0961 - accuracy: 0.9693 - val_loss: 1.3043 - val_accuracy: 0.7415\n",
      "Epoch 43/100\n",
      " - 2s - loss: 0.0799 - accuracy: 0.9758 - val_loss: 1.3175 - val_accuracy: 0.7517\n",
      "Epoch 44/100\n",
      " - 2s - loss: 0.0768 - accuracy: 0.9755 - val_loss: 1.5744 - val_accuracy: 0.7302\n",
      "Epoch 45/100\n",
      " - 2s - loss: 0.0814 - accuracy: 0.9740 - val_loss: 1.7503 - val_accuracy: 0.7219\n",
      "Epoch 46/100\n",
      " - 2s - loss: 0.0723 - accuracy: 0.9774 - val_loss: 1.7259 - val_accuracy: 0.7350\n",
      "Epoch 47/100\n",
      " - 2s - loss: 0.0803 - accuracy: 0.9734 - val_loss: 1.7224 - val_accuracy: 0.7146\n",
      "Epoch 48/100\n",
      " - 2s - loss: 0.0798 - accuracy: 0.9740 - val_loss: 1.6142 - val_accuracy: 0.7239\n",
      "Epoch 49/100\n",
      " - 2s - loss: 0.0984 - accuracy: 0.9675 - val_loss: 1.6112 - val_accuracy: 0.6886\n",
      "Epoch 50/100\n",
      " - 2s - loss: 0.0861 - accuracy: 0.9711 - val_loss: 1.1916 - val_accuracy: 0.7631\n",
      "Epoch 51/100\n",
      " - 2s - loss: 0.0694 - accuracy: 0.9779 - val_loss: 1.5457 - val_accuracy: 0.7330\n",
      "Epoch 52/100\n",
      " - 2s - loss: 0.0691 - accuracy: 0.9784 - val_loss: 1.6324 - val_accuracy: 0.7110\n",
      "Epoch 53/100\n",
      " - 2s - loss: 0.0614 - accuracy: 0.9810 - val_loss: 1.7519 - val_accuracy: 0.7144\n",
      "Epoch 54/100\n",
      " - 2s - loss: 0.0528 - accuracy: 0.9838 - val_loss: 1.4541 - val_accuracy: 0.7443\n",
      "Epoch 55/100\n",
      " - 2s - loss: 0.0475 - accuracy: 0.9857 - val_loss: 1.2224 - val_accuracy: 0.7787\n",
      "Epoch 56/100\n",
      " - 2s - loss: 0.0397 - accuracy: 0.9889 - val_loss: 1.5647 - val_accuracy: 0.7551\n",
      "Epoch 57/100\n",
      " - 2s - loss: 0.0476 - accuracy: 0.9860 - val_loss: 1.5273 - val_accuracy: 0.7414\n",
      "Epoch 58/100\n",
      " - 2s - loss: 0.0564 - accuracy: 0.9822 - val_loss: 1.6763 - val_accuracy: 0.7150\n",
      "Epoch 59/100\n",
      " - 2s - loss: 0.0703 - accuracy: 0.9762 - val_loss: 1.8427 - val_accuracy: 0.7306\n",
      "Epoch 60/100\n",
      " - 2s - loss: 0.0736 - accuracy: 0.9746 - val_loss: 2.4837 - val_accuracy: 0.6715\n",
      "Epoch 61/100\n",
      " - 2s - loss: 0.0884 - accuracy: 0.9712 - val_loss: 2.7615 - val_accuracy: 0.6350\n",
      "Epoch 62/100\n",
      " - 2s - loss: 0.0789 - accuracy: 0.9736 - val_loss: 2.3051 - val_accuracy: 0.6914\n",
      "Epoch 63/100\n",
      " - 2s - loss: 0.0654 - accuracy: 0.9782 - val_loss: 1.5058 - val_accuracy: 0.7463\n",
      "Epoch 64/100\n",
      " - 2s - loss: 0.0543 - accuracy: 0.9823 - val_loss: 1.9295 - val_accuracy: 0.6908\n",
      "Epoch 65/100\n",
      " - 2s - loss: 0.0441 - accuracy: 0.9870 - val_loss: 1.4628 - val_accuracy: 0.7625\n",
      "Epoch 66/100\n",
      " - 2s - loss: 0.0395 - accuracy: 0.9880 - val_loss: 1.4347 - val_accuracy: 0.7625\n",
      "Epoch 67/100\n",
      " - 2s - loss: 0.0360 - accuracy: 0.9896 - val_loss: 1.4513 - val_accuracy: 0.7633\n",
      "Epoch 68/100\n",
      " - 2s - loss: 0.0493 - accuracy: 0.9843 - val_loss: 1.7684 - val_accuracy: 0.7373\n",
      "Epoch 69/100\n",
      " - 2s - loss: 0.0513 - accuracy: 0.9836 - val_loss: 1.9320 - val_accuracy: 0.7156\n",
      "Epoch 70/100\n",
      " - 2s - loss: 0.0782 - accuracy: 0.9739 - val_loss: 2.2578 - val_accuracy: 0.6938\n",
      "Epoch 71/100\n",
      " - 2s - loss: 0.0606 - accuracy: 0.9789 - val_loss: 1.4399 - val_accuracy: 0.7687\n",
      "Epoch 72/100\n",
      " - 2s - loss: 0.0379 - accuracy: 0.9882 - val_loss: 2.4836 - val_accuracy: 0.6998\n",
      "Epoch 73/100\n",
      " - 2s - loss: 0.0377 - accuracy: 0.9886 - val_loss: 2.2437 - val_accuracy: 0.7043\n",
      "Epoch 74/100\n",
      " - 2s - loss: 0.0343 - accuracy: 0.9900 - val_loss: 1.4820 - val_accuracy: 0.7736\n",
      "Epoch 75/100\n",
      " - 2s - loss: 0.0217 - accuracy: 0.9946 - val_loss: 1.3797 - val_accuracy: 0.7863\n",
      "Epoch 76/100\n",
      " - 2s - loss: 0.0170 - accuracy: 0.9959 - val_loss: 1.5406 - val_accuracy: 0.7767\n",
      "Epoch 77/100\n",
      " - 2s - loss: 0.0153 - accuracy: 0.9967 - val_loss: 1.2834 - val_accuracy: 0.8068\n",
      "Epoch 78/100\n",
      " - 2s - loss: 0.0175 - accuracy: 0.9955 - val_loss: 1.5217 - val_accuracy: 0.7608\n",
      "Epoch 79/100\n",
      " - 2s - loss: 0.0207 - accuracy: 0.9944 - val_loss: 1.8836 - val_accuracy: 0.7464\n",
      "Epoch 80/100\n",
      " - 2s - loss: 0.0250 - accuracy: 0.9927 - val_loss: 1.6553 - val_accuracy: 0.7651\n",
      "Epoch 81/100\n",
      " - 2s - loss: 0.0265 - accuracy: 0.9924 - val_loss: 1.9014 - val_accuracy: 0.7607\n",
      "Epoch 82/100\n",
      " - 1s - loss: 0.0356 - accuracy: 0.9884 - val_loss: 2.3386 - val_accuracy: 0.6871\n",
      "Epoch 83/100\n",
      " - 1s - loss: 0.0420 - accuracy: 0.9867 - val_loss: 2.1133 - val_accuracy: 0.7107\n",
      "Epoch 84/100\n",
      " - 1s - loss: 0.0452 - accuracy: 0.9847 - val_loss: 2.1098 - val_accuracy: 0.7300\n",
      "Epoch 85/100\n",
      " - 1s - loss: 0.0717 - accuracy: 0.9747 - val_loss: 2.2248 - val_accuracy: 0.6843\n",
      "Epoch 86/100\n",
      " - 2s - loss: 0.0892 - accuracy: 0.9687 - val_loss: 2.2943 - val_accuracy: 0.7181\n",
      "Epoch 87/100\n",
      " - 2s - loss: 0.0811 - accuracy: 0.9716 - val_loss: 3.8350 - val_accuracy: 0.6050\n",
      "Epoch 88/100\n",
      " - 2s - loss: 0.0923 - accuracy: 0.9680 - val_loss: 2.9597 - val_accuracy: 0.6713\n",
      "Epoch 89/100\n",
      " - 2s - loss: 0.0836 - accuracy: 0.9719 - val_loss: 2.1465 - val_accuracy: 0.7074\n",
      "Epoch 90/100\n",
      " - 2s - loss: 0.0549 - accuracy: 0.9810 - val_loss: 1.9951 - val_accuracy: 0.7257\n",
      "Epoch 91/100\n",
      " - 2s - loss: 0.0385 - accuracy: 0.9881 - val_loss: 1.6833 - val_accuracy: 0.7520\n",
      "Epoch 92/100\n",
      " - 2s - loss: 0.0246 - accuracy: 0.9926 - val_loss: 1.6566 - val_accuracy: 0.7656\n",
      "Epoch 93/100\n",
      " - 2s - loss: 0.0200 - accuracy: 0.9941 - val_loss: 1.5825 - val_accuracy: 0.7804\n",
      "Epoch 94/100\n",
      " - 2s - loss: 0.0196 - accuracy: 0.9949 - val_loss: 2.0169 - val_accuracy: 0.7306\n",
      "Epoch 95/100\n",
      " - 2s - loss: 0.0199 - accuracy: 0.9944 - val_loss: 1.4726 - val_accuracy: 0.7950\n",
      "Epoch 96/100\n",
      " - 2s - loss: 0.0121 - accuracy: 0.9974 - val_loss: 1.5545 - val_accuracy: 0.7907\n",
      "Epoch 97/100\n",
      " - 2s - loss: 0.0080 - accuracy: 0.9987 - val_loss: 1.3753 - val_accuracy: 0.8090\n",
      "Epoch 98/100\n",
      " - 2s - loss: 0.0069 - accuracy: 0.9989 - val_loss: 1.3985 - val_accuracy: 0.8020\n",
      "Epoch 99/100\n",
      " - 2s - loss: 0.0059 - accuracy: 0.9990 - val_loss: 1.5091 - val_accuracy: 0.7888\n",
      "Epoch 100/100\n",
      " - 2s - loss: 0.0039 - accuracy: 0.9996 - val_loss: 1.3480 - val_accuracy: 0.8213\n"
     ]
    },
    {
     "data": {
      "text/plain": [
       "<keras.callbacks.callbacks.History at 0x7fc677e58898>"
      ]
     },
     "execution_count": 28,
     "metadata": {
      "tags": []
     },
     "output_type": "execute_result"
    }
   ],
   "source": [
    "learning_rate = 0.006217387305341968\n",
    "hidden_nodes = 256\n",
    "output_nodes = 10\n",
    "\n",
    "model = Sequential()\n",
    "model.add(Dense(hidden_nodes, input_shape=(1024,), kernel_initializer='he_normal'))\n",
    "model.add(BatchNormalization())\n",
    "model.add(Activation('relu'))\n",
    "model.add(Dense(hidden_nodes))\n",
    "model.add(BatchNormalization())\n",
    "model.add(Activation('relu'))\n",
    "model.add(Dense(output_nodes))\n",
    "model.add(Activation('softmax'))\n",
    "\n",
    "adam = optimizers.Adam(lr = learning_rate)\n",
    "model.compile(optimizer = adam, loss = 'categorical_crossentropy', metrics = ['accuracy'])\n",
    "\n",
    "# Fit the model\n",
    "model.fit(X_train, y_train, validation_split = 0.20, epochs=100, shuffle = True, batch_size=1000, verbose= 2)"
   ]
  },
  {
   "cell_type": "code",
   "execution_count": 29,
   "metadata": {
    "colab": {
     "base_uri": "https://localhost:8080/",
     "height": 439
    },
    "colab_type": "code",
    "id": "AE8AF2RJCbJ_",
    "outputId": "a9d9338f-5684-4a7d-dbe9-f582425a5bfd"
   },
   "outputs": [
    {
     "name": "stdout",
     "output_type": "stream",
     "text": [
      "Model: \"sequential_2\"\n",
      "_________________________________________________________________\n",
      "Layer (type)                 Output Shape              Param #   \n",
      "=================================================================\n",
      "dense_4 (Dense)              (None, 256)               262400    \n",
      "_________________________________________________________________\n",
      "batch_normalization_1 (Batch (None, 256)               1024      \n",
      "_________________________________________________________________\n",
      "activation_1 (Activation)    (None, 256)               0         \n",
      "_________________________________________________________________\n",
      "dense_5 (Dense)              (None, 256)               65792     \n",
      "_________________________________________________________________\n",
      "batch_normalization_2 (Batch (None, 256)               1024      \n",
      "_________________________________________________________________\n",
      "activation_2 (Activation)    (None, 256)               0         \n",
      "_________________________________________________________________\n",
      "dense_6 (Dense)              (None, 10)                2570      \n",
      "_________________________________________________________________\n",
      "activation_3 (Activation)    (None, 10)                0         \n",
      "=================================================================\n",
      "Total params: 332,810\n",
      "Trainable params: 331,786\n",
      "Non-trainable params: 1,024\n",
      "_________________________________________________________________\n"
     ]
    }
   ],
   "source": [
    "model.summary()"
   ]
  },
  {
   "cell_type": "code",
   "execution_count": 30,
   "metadata": {
    "colab": {
     "base_uri": "https://localhost:8080/",
     "height": 52
    },
    "colab_type": "code",
    "id": "AKU4pxNPAGfJ",
    "outputId": "fd8ad126-7938-48d6-c6fc-1b1197c1bf90"
   },
   "outputs": [
    {
     "name": "stdout",
     "output_type": "stream",
     "text": [
      "18000/18000 [==============================] - 1s 44us/step\n",
      "Test accuracy:  0.8146666884422302\n"
     ]
    }
   ],
   "source": [
    "results = model.evaluate(X_test, y_test)\n",
    "print('Test accuracy: ', results[1])"
   ]
  },
  {
   "cell_type": "code",
   "execution_count": 31,
   "metadata": {
    "colab": {
     "base_uri": "https://localhost:8080/",
     "height": 299
    },
    "colab_type": "code",
    "id": "TAthrYprAM1L",
    "outputId": "a573f9e2-598b-4ead-e6b1-5fb30247909b"
   },
   "outputs": [
    {
     "name": "stdout",
     "output_type": "stream",
     "text": [
      "18000/18000 [==============================] - 1s 44us/step\n",
      "Accuracy: 0.8146666884422302\n",
      "Recall_score: 0.8146233095623353\n",
      "Precision_score: 0.8220514983678102\n",
      "F-score: 0.815625369039197\n",
      "18000/18000 [==============================] - 1s 44us/step\n"
     ]
    },
    {
     "data": {
      "text/plain": [
       "array([[1633,   24,    6,   27,   12,    9,   24,   10,   21,   48],\n",
       "       [  56, 1541,    7,   67,   41,    9,   23,   28,   27,   29],\n",
       "       [  34,   40, 1382,  123,   31,   21,    6,   57,   44,   65],\n",
       "       [  29,   36,   18, 1405,   12,   96,   23,   22,   37,   41],\n",
       "       [  57,   69,   16,   48, 1487,   15,   48,    6,   21,   45],\n",
       "       [  33,   18,    8,  130,   10, 1417,   60,    7,   34,   51],\n",
       "       [ 103,   22,    9,   46,   26,   55, 1436,    7,   96,   32],\n",
       "       [  45,   87,   10,   77,   11,    7,   13, 1511,   15,   32],\n",
       "       [  76,   33,    9,   81,   12,   36,   74,    3, 1404,   84],\n",
       "       [ 109,   26,    9,   79,   18,   34,   21,   18,   42, 1448]])"
      ]
     },
     "execution_count": 31,
     "metadata": {
      "tags": []
     },
     "output_type": "execute_result"
    }
   ],
   "source": [
    "Y_pred_cls = model.predict_classes(X_test, batch_size=200, verbose=0)\n",
    "y_labels = np.argmax(y_test, axis=1)\n",
    "print('Accuracy: '+ str(model.evaluate(X_test,y_test)[1]))\n",
    "print('Recall_score: ' + str(recall_score(y_labels,Y_pred_cls, average='macro')))\n",
    "print('Precision_score: ' + str(precision_score(y_labels, Y_pred_cls, average='macro')))\n",
    "print('F-score: ' + str(f1_score(y_labels,Y_pred_cls, average='macro')))\n",
    "Score('NNBN', X_test,y_test, y_labels, Y_pred_cls)\n",
    "confusion_matrix(y_labels, Y_pred_cls)"
   ]
  },
  {
   "cell_type": "markdown",
   "metadata": {
    "colab_type": "text",
    "id": "2vvvnxCHunGK"
   },
   "source": [
    "#### Task: Since model is overfitting in both cases implementing data augmentation to improve performance\n",
    "* Image intensity rescale: Stretching or shrinking image intensity levels\n",
    "* Filter Otsu Threshold: Mask threshold value based on Otsu's method"
   ]
  },
  {
   "cell_type": "code",
   "execution_count": 0,
   "metadata": {
    "colab": {},
    "colab_type": "code",
    "id": "_c-61-O_Otzk"
   },
   "outputs": [],
   "source": [
    "from skimage import img_as_float, exposure, filters\n",
    "def data_aug_X(X):\n",
    "    Y, Z = np.zeros(shape=(0, 1024)), np.zeros(shape=(0, 1024))\n",
    "    for img in X:\n",
    "        p2, p98 = np.percentile(img, (2, 98))\n",
    "        img_rescale = exposure.rescale_intensity(img, in_range=(p2, p98))\n",
    "        val = filters.threshold_otsu(img)\n",
    "        mask = img < val\n",
    "        Y = np.append(Y, [img_rescale], axis = 0)\n",
    "        Z = np.append(Z, [mask.astype(int)], axis = 0)\n",
    "    X = np.append(X, Y, axis = 0)\n",
    "    X = np.append(X, Z, axis = 0)\n",
    "    return X\n",
    "\n",
    "def data_aug_y(y):\n",
    "    Y = np.append(y, y, axis = 0)\n",
    "    y = np.append(Y, y, axis = 0)\n",
    "    return y"
   ]
  },
  {
   "cell_type": "code",
   "execution_count": 33,
   "metadata": {
    "colab": {
     "base_uri": "https://localhost:8080/",
     "height": 35
    },
    "colab_type": "code",
    "id": "TFb1ZWGEOtzm",
    "outputId": "10a42902-ab25-4bb7-9d40-686a06f93f30"
   },
   "outputs": [
    {
     "name": "stdout",
     "output_type": "stream",
     "text": [
      "(126000, 1024) (18000, 1024) (126000, 10) (18000, 10)\n"
     ]
    }
   ],
   "source": [
    "X_train = data_aug_X(X_train)\n",
    "y_train = data_aug_y(y_train)\n",
    "print(X_train.shape, X_test.shape, y_train.shape, y_test.shape)"
   ]
  },
  {
   "cell_type": "code",
   "execution_count": 34,
   "metadata": {
    "colab": {
     "base_uri": "https://localhost:8080/",
     "height": 283
    },
    "colab_type": "code",
    "id": "da1CP_AjOtzo",
    "outputId": "3ed988cc-58d8-41c5-f135-67cbb218f492"
   },
   "outputs": [
    {
     "data": {
      "image/png": "[encoded data removed]",
      "text/plain": [
       "<Figure size 432x288 with 1 Axes>"
      ]
     },
     "metadata": {
      "needs_background": "light",
      "tags": []
     },
     "output_type": "display_data"
    },
    {
     "name": "stdout",
     "output_type": "stream",
     "text": [
      "Label:  [0. 0. 1. 0. 0. 0. 0. 0. 0. 0.]\n"
     ]
    }
   ],
   "source": [
    "plt.imshow(X_train[42000].reshape(32, 32), cmap='gray')\n",
    "plt.show()\n",
    "print('Label: ', y_train[42000])"
   ]
  },
  {
   "cell_type": "code",
   "execution_count": 35,
   "metadata": {
    "colab": {
     "base_uri": "https://localhost:8080/",
     "height": 283
    },
    "colab_type": "code",
    "id": "OPJDCr-wOtzq",
    "outputId": "ba3c9987-fb9f-47cf-93f8-ec9587875e41"
   },
   "outputs": [
    {
     "data": {
      "image/png": "[encoded data removed]",
      "text/plain": [
       "<Figure size 432x288 with 1 Axes>"
      ]
     },
     "metadata": {
      "needs_background": "light",
      "tags": []
     },
     "output_type": "display_data"
    },
    {
     "name": "stdout",
     "output_type": "stream",
     "text": [
      "Label:  [0. 0. 1. 0. 0. 0. 0. 0. 0. 0.]\n"
     ]
    }
   ],
   "source": [
    "plt.imshow(X_train[84000].reshape(32, 32), cmap='gray')\n",
    "plt.show()\n",
    "print('Label: ', y_train[84000])"
   ]
  },
  {
   "cell_type": "code",
   "execution_count": 0,
   "metadata": {
    "colab": {},
    "colab_type": "code",
    "id": "UJvk4WJLKCs0"
   },
   "outputs": [],
   "source": [
    "def train_and_test_loop_ht(iterations, lr, Lambda, verb=True):\n",
    "\n",
    "    ## hyperparameters\n",
    "    iterations = iterations\n",
    "    learning_rate = lr\n",
    "    hidden_nodes = 256\n",
    "    output_nodes = 10\n",
    "\n",
    "    model = Sequential()\n",
    "    model.add(Dense(hidden_nodes, input_shape=(1024,), activation='relu'))\n",
    "    model.add(Dense(hidden_nodes, activation='relu'))\n",
    "    model.add(Dense(output_nodes, activation='softmax', kernel_regularizer=regularizers.l2(Lambda)))\n",
    "    \n",
    "    sgd = optimizers.SGD(lr=learning_rate, decay=1e-6, momentum=0.9)\n",
    "    # Compile model\n",
    "    model.compile(loss='categorical_crossentropy', optimizer=sgd, metrics=['accuracy'])\n",
    "    \n",
    "    # Fit the model\n",
    "    model.fit(X_train, y_train, epochs=iterations, batch_size=1000, verbose= 0)\n",
    "    score = model.evaluate(X_train, y_train, verbose=0)\n",
    "    \n",
    "    return score"
   ]
  },
  {
   "cell_type": "code",
   "execution_count": 0,
   "metadata": {
    "colab": {},
    "colab_type": "code",
    "id": "tKi6IeUAKCs3"
   },
   "outputs": [],
   "source": [
    "# for k in range(1,11):\n",
    "#     lr = math.pow(10, np.random.uniform(-4.0, 0.0))\n",
    "#     Lambda = math.pow(10, np.random.uniform(-7,-2))\n",
    "#     best_acc = train_and_test_loop_ht(100, lr, Lambda, False)\n",
    "#     print(\"Try {0}/{1}: Best_val_acc: {2}, lr: {3}, Lambda: {4}\\n\".format(k, 10, best_acc, lr, Lambda))"
   ]
  },
  {
   "cell_type": "code",
   "execution_count": 0,
   "metadata": {
    "colab": {},
    "colab_type": "code",
    "id": "riFkd1kLKCs5"
   },
   "outputs": [],
   "source": [
    "# for k in range(1,11):\n",
    "#     lr = math.pow(10, np.random.uniform(-3.0, -1.0))\n",
    "#     Lambda = math.pow(10, np.random.uniform(-7,-4))\n",
    "#     best_acc = train_and_test_loop_ht(100, lr, Lambda, False)\n",
    "#     print(\"Try {0}/{1}: Best_val_acc: {2}, lr: {3}, Lambda: {4}\\n\".format(k, 10, best_acc, lr, Lambda))"
   ]
  },
  {
   "cell_type": "code",
   "execution_count": 0,
   "metadata": {
    "colab": {},
    "colab_type": "code",
    "id": "M1YIkCYbKCs6"
   },
   "outputs": [],
   "source": [
    "# for k in range(1,11):\n",
    "#     lr = np.random.uniform(0.05, 0.07)\n",
    "#     Lambda = math.pow(10, np.random.uniform(-6,-4))\n",
    "#     best_acc = train_and_test_loop_ht(100, lr, Lambda, False)\n",
    "#     print(\"Try {0}/{1}: Best_val_acc: {2}, lr: {3}, Lambda: {4}\\n\".format(k, 10, best_acc, lr, Lambda))"
   ]
  },
  {
   "cell_type": "markdown",
   "metadata": {},
   "source": [
    "#### Hyperparameter Optimization - Coarse to fine tuning for data augmented model\n",
    "* Check loss range & accuracy\n",
    "* Overfit a subset of the training data to check if model works\n",
    "* Identify learning rate & regularization lambda upper and lower limits \n",
    "* Hyperparameter tuning\n",
    "* After completing above steps below learning rate & regularization lambda was finalized for third Neural Network with data augmentation"
   ]
  },
  {
   "cell_type": "code",
   "execution_count": 40,
   "metadata": {
    "colab": {
     "base_uri": "https://localhost:8080/",
     "height": 1000
    },
    "colab_type": "code",
    "id": "UpP85Q2FKCs8",
    "outputId": "bf3aecd7-21d6-4496-babc-1e6757b07a3e"
   },
   "outputs": [
    {
     "name": "stdout",
     "output_type": "stream",
     "text": [
      "Train on 100800 samples, validate on 25200 samples\n",
      "Epoch 1/100\n",
      " - 4s - loss: 1.8184 - accuracy: 0.3984 - val_loss: 1.2582 - val_accuracy: 0.6229\n",
      "Epoch 2/100\n",
      " - 4s - loss: 1.1252 - accuracy: 0.6651 - val_loss: 1.0713 - val_accuracy: 0.6917\n",
      "Epoch 3/100\n",
      " - 4s - loss: 0.9451 - accuracy: 0.7244 - val_loss: 0.9784 - val_accuracy: 0.7318\n",
      "Epoch 4/100\n",
      " - 4s - loss: 0.8233 - accuracy: 0.7636 - val_loss: 0.8998 - val_accuracy: 0.7514\n",
      "Epoch 5/100\n",
      " - 4s - loss: 0.7512 - accuracy: 0.7855 - val_loss: 0.8850 - val_accuracy: 0.7675\n",
      "Epoch 6/100\n",
      " - 4s - loss: 0.6917 - accuracy: 0.8023 - val_loss: 0.8894 - val_accuracy: 0.7726\n",
      "Epoch 7/100\n",
      " - 4s - loss: 0.6585 - accuracy: 0.8111 - val_loss: 0.8743 - val_accuracy: 0.7788\n",
      "Epoch 8/100\n",
      " - 4s - loss: 0.6143 - accuracy: 0.8238 - val_loss: 0.8463 - val_accuracy: 0.7850\n",
      "Epoch 9/100\n",
      " - 4s - loss: 0.5783 - accuracy: 0.8346 - val_loss: 0.8678 - val_accuracy: 0.7855\n",
      "Epoch 10/100\n",
      " - 6s - loss: 0.5506 - accuracy: 0.8426 - val_loss: 0.8439 - val_accuracy: 0.7911\n",
      "Epoch 11/100\n",
      " - 5s - loss: 0.5255 - accuracy: 0.8479 - val_loss: 0.8517 - val_accuracy: 0.7889\n",
      "Epoch 12/100\n",
      " - 4s - loss: 0.5042 - accuracy: 0.8530 - val_loss: 0.8525 - val_accuracy: 0.7884\n",
      "Epoch 13/100\n",
      " - 4s - loss: 0.4778 - accuracy: 0.8605 - val_loss: 0.8773 - val_accuracy: 0.7904\n",
      "Epoch 14/100\n",
      " - 4s - loss: 0.4821 - accuracy: 0.8590 - val_loss: 0.9038 - val_accuracy: 0.7868\n",
      "Epoch 15/100\n",
      " - 4s - loss: 0.4509 - accuracy: 0.8682 - val_loss: 0.8794 - val_accuracy: 0.7971\n",
      "Epoch 16/100\n",
      " - 4s - loss: 0.4435 - accuracy: 0.8684 - val_loss: 0.9054 - val_accuracy: 0.7946\n",
      "Epoch 17/100\n",
      " - 4s - loss: 0.4157 - accuracy: 0.8789 - val_loss: 0.9206 - val_accuracy: 0.7939\n",
      "Epoch 18/100\n",
      " - 4s - loss: 0.4072 - accuracy: 0.8806 - val_loss: 0.9522 - val_accuracy: 0.7928\n",
      "Epoch 19/100\n",
      " - 4s - loss: 0.3989 - accuracy: 0.8814 - val_loss: 0.9315 - val_accuracy: 0.7947\n",
      "Epoch 20/100\n",
      " - 4s - loss: 0.3800 - accuracy: 0.8870 - val_loss: 0.9565 - val_accuracy: 0.7947\n",
      "Epoch 21/100\n",
      " - 4s - loss: 0.3728 - accuracy: 0.8885 - val_loss: 0.9828 - val_accuracy: 0.7931\n",
      "Epoch 22/100\n",
      " - 4s - loss: 0.3585 - accuracy: 0.8940 - val_loss: 0.9808 - val_accuracy: 0.7965\n",
      "Epoch 23/100\n",
      " - 4s - loss: 0.3401 - accuracy: 0.8995 - val_loss: 1.0180 - val_accuracy: 0.7923\n",
      "Epoch 24/100\n",
      " - 4s - loss: 0.3402 - accuracy: 0.8988 - val_loss: 1.0391 - val_accuracy: 0.7927\n",
      "Epoch 25/100\n",
      " - 4s - loss: 0.3321 - accuracy: 0.9005 - val_loss: 1.0497 - val_accuracy: 0.7896\n",
      "Epoch 26/100\n",
      " - 4s - loss: 0.3167 - accuracy: 0.9071 - val_loss: 1.0566 - val_accuracy: 0.7972\n",
      "Epoch 27/100\n",
      " - 4s - loss: 0.3057 - accuracy: 0.9084 - val_loss: 1.0930 - val_accuracy: 0.7902\n",
      "Epoch 28/100\n",
      " - 4s - loss: 0.3023 - accuracy: 0.9103 - val_loss: 1.1236 - val_accuracy: 0.7858\n",
      "Epoch 29/100\n",
      " - 4s - loss: 0.2922 - accuracy: 0.9138 - val_loss: 1.1428 - val_accuracy: 0.7899\n",
      "Epoch 30/100\n",
      " - 4s - loss: 0.2812 - accuracy: 0.9167 - val_loss: 1.1492 - val_accuracy: 0.7947\n",
      "Epoch 31/100\n",
      " - 4s - loss: 0.2627 - accuracy: 0.9224 - val_loss: 1.1636 - val_accuracy: 0.7929\n",
      "Epoch 32/100\n",
      " - 4s - loss: 0.2586 - accuracy: 0.9235 - val_loss: 1.1822 - val_accuracy: 0.7921\n",
      "Epoch 33/100\n",
      " - 4s - loss: 0.2636 - accuracy: 0.9216 - val_loss: 1.2150 - val_accuracy: 0.7888\n",
      "Epoch 34/100\n",
      " - 4s - loss: 0.2533 - accuracy: 0.9242 - val_loss: 1.2555 - val_accuracy: 0.7899\n",
      "Epoch 35/100\n",
      " - 4s - loss: 0.2383 - accuracy: 0.9300 - val_loss: 1.2581 - val_accuracy: 0.7891\n",
      "Epoch 36/100\n",
      " - 4s - loss: 0.2333 - accuracy: 0.9314 - val_loss: 1.2747 - val_accuracy: 0.7906\n",
      "Epoch 37/100\n",
      " - 4s - loss: 0.2266 - accuracy: 0.9345 - val_loss: 1.3174 - val_accuracy: 0.7868\n",
      "Epoch 38/100\n",
      " - 4s - loss: 0.2260 - accuracy: 0.9333 - val_loss: 1.3141 - val_accuracy: 0.7937\n",
      "Epoch 39/100\n",
      " - 4s - loss: 0.2217 - accuracy: 0.9337 - val_loss: 1.3700 - val_accuracy: 0.7922\n",
      "Epoch 40/100\n",
      " - 4s - loss: 0.2169 - accuracy: 0.9361 - val_loss: 1.3877 - val_accuracy: 0.7894\n",
      "Epoch 41/100\n",
      " - 4s - loss: 0.2093 - accuracy: 0.9389 - val_loss: 1.4103 - val_accuracy: 0.7899\n",
      "Epoch 42/100\n",
      " - 4s - loss: 0.1977 - accuracy: 0.9431 - val_loss: 1.4491 - val_accuracy: 0.7880\n",
      "Epoch 43/100\n",
      " - 4s - loss: 0.2020 - accuracy: 0.9398 - val_loss: 1.4554 - val_accuracy: 0.7873\n",
      "Epoch 44/100\n",
      " - 4s - loss: 0.1911 - accuracy: 0.9445 - val_loss: 1.4808 - val_accuracy: 0.7870\n",
      "Epoch 45/100\n",
      " - 4s - loss: 0.1848 - accuracy: 0.9458 - val_loss: 1.5232 - val_accuracy: 0.7852\n",
      "Epoch 46/100\n",
      " - 4s - loss: 0.1702 - accuracy: 0.9512 - val_loss: 1.5220 - val_accuracy: 0.7866\n",
      "Epoch 47/100\n",
      " - 4s - loss: 0.1822 - accuracy: 0.9463 - val_loss: 1.5852 - val_accuracy: 0.7853\n",
      "Epoch 48/100\n",
      " - 4s - loss: 0.1725 - accuracy: 0.9496 - val_loss: 1.5875 - val_accuracy: 0.7856\n",
      "Epoch 49/100\n",
      " - 4s - loss: 0.1637 - accuracy: 0.9532 - val_loss: 1.5795 - val_accuracy: 0.7882\n",
      "Epoch 50/100\n",
      " - 4s - loss: 0.1675 - accuracy: 0.9517 - val_loss: 1.6239 - val_accuracy: 0.7871\n",
      "Epoch 51/100\n",
      " - 4s - loss: 0.1562 - accuracy: 0.9556 - val_loss: 1.6569 - val_accuracy: 0.7875\n",
      "Epoch 52/100\n",
      " - 4s - loss: 0.1465 - accuracy: 0.9596 - val_loss: 1.6926 - val_accuracy: 0.7836\n",
      "Epoch 53/100\n",
      " - 4s - loss: 0.1439 - accuracy: 0.9599 - val_loss: 1.7348 - val_accuracy: 0.7884\n",
      "Epoch 54/100\n",
      " - 4s - loss: 0.1524 - accuracy: 0.9569 - val_loss: 1.7323 - val_accuracy: 0.7862\n",
      "Epoch 55/100\n",
      " - 4s - loss: 0.1442 - accuracy: 0.9596 - val_loss: 1.7870 - val_accuracy: 0.7824\n",
      "Epoch 56/100\n",
      " - 4s - loss: 0.1452 - accuracy: 0.9584 - val_loss: 1.7945 - val_accuracy: 0.7867\n",
      "Epoch 57/100\n",
      " - 4s - loss: 0.1361 - accuracy: 0.9624 - val_loss: 1.7918 - val_accuracy: 0.7859\n",
      "Epoch 58/100\n",
      " - 4s - loss: 0.1306 - accuracy: 0.9647 - val_loss: 1.8473 - val_accuracy: 0.7856\n",
      "Epoch 59/100\n",
      " - 4s - loss: 0.1275 - accuracy: 0.9658 - val_loss: 1.8347 - val_accuracy: 0.7860\n",
      "Epoch 60/100\n",
      " - 4s - loss: 0.1460 - accuracy: 0.9580 - val_loss: 1.8596 - val_accuracy: 0.7874\n",
      "Epoch 61/100\n",
      " - 4s - loss: 0.1345 - accuracy: 0.9621 - val_loss: 1.9132 - val_accuracy: 0.7862\n",
      "Epoch 62/100\n",
      " - 4s - loss: 0.1230 - accuracy: 0.9667 - val_loss: 1.9268 - val_accuracy: 0.7862\n",
      "Epoch 63/100\n",
      " - 4s - loss: 0.1326 - accuracy: 0.9626 - val_loss: 1.9753 - val_accuracy: 0.7835\n",
      "Epoch 64/100\n",
      " - 4s - loss: 0.1113 - accuracy: 0.9718 - val_loss: 1.9618 - val_accuracy: 0.7880\n",
      "Epoch 65/100\n",
      " - 4s - loss: 0.1103 - accuracy: 0.9716 - val_loss: 2.0101 - val_accuracy: 0.7861\n",
      "Epoch 66/100\n",
      " - 4s - loss: 0.1062 - accuracy: 0.9730 - val_loss: 2.0465 - val_accuracy: 0.7835\n",
      "Epoch 67/100\n",
      " - 4s - loss: 0.1171 - accuracy: 0.9691 - val_loss: 2.0436 - val_accuracy: 0.7844\n",
      "Epoch 68/100\n",
      " - 4s - loss: 0.1212 - accuracy: 0.9666 - val_loss: 2.0621 - val_accuracy: 0.7824\n",
      "Epoch 69/100\n",
      " - 4s - loss: 0.1048 - accuracy: 0.9731 - val_loss: 2.0944 - val_accuracy: 0.7852\n",
      "Epoch 70/100\n",
      " - 4s - loss: 0.1047 - accuracy: 0.9732 - val_loss: 2.0949 - val_accuracy: 0.7857\n",
      "Epoch 71/100\n",
      " - 4s - loss: 0.0993 - accuracy: 0.9750 - val_loss: 2.1311 - val_accuracy: 0.7853\n",
      "Epoch 72/100\n",
      " - 4s - loss: 0.0999 - accuracy: 0.9751 - val_loss: 2.1502 - val_accuracy: 0.7869\n",
      "Epoch 73/100\n",
      " - 4s - loss: 0.1081 - accuracy: 0.9709 - val_loss: 2.1707 - val_accuracy: 0.7840\n",
      "Epoch 74/100\n",
      " - 4s - loss: 0.0976 - accuracy: 0.9758 - val_loss: 2.2396 - val_accuracy: 0.7837\n",
      "Epoch 75/100\n",
      " - 4s - loss: 0.0866 - accuracy: 0.9800 - val_loss: 2.2185 - val_accuracy: 0.7864\n",
      "Epoch 76/100\n",
      " - 4s - loss: 0.0950 - accuracy: 0.9761 - val_loss: 2.2382 - val_accuracy: 0.7849\n",
      "Epoch 77/100\n",
      " - 4s - loss: 0.0833 - accuracy: 0.9815 - val_loss: 2.2315 - val_accuracy: 0.7843\n",
      "Epoch 78/100\n",
      " - 4s - loss: 0.0909 - accuracy: 0.9777 - val_loss: 2.2871 - val_accuracy: 0.7848\n",
      "Epoch 79/100\n",
      " - 4s - loss: 0.0856 - accuracy: 0.9797 - val_loss: 2.3212 - val_accuracy: 0.7828\n",
      "Epoch 80/100\n",
      " - 4s - loss: 0.1006 - accuracy: 0.9734 - val_loss: 2.3081 - val_accuracy: 0.7850\n",
      "Epoch 81/100\n",
      " - 4s - loss: 0.0854 - accuracy: 0.9799 - val_loss: 2.3005 - val_accuracy: 0.7871\n",
      "Epoch 82/100\n",
      " - 4s - loss: 0.0795 - accuracy: 0.9821 - val_loss: 2.3329 - val_accuracy: 0.7839\n",
      "Epoch 83/100\n",
      " - 4s - loss: 0.0767 - accuracy: 0.9831 - val_loss: 2.3834 - val_accuracy: 0.7854\n",
      "Epoch 84/100\n",
      " - 4s - loss: 0.0789 - accuracy: 0.9823 - val_loss: 2.3834 - val_accuracy: 0.7828\n",
      "Epoch 85/100\n",
      " - 4s - loss: 0.0729 - accuracy: 0.9852 - val_loss: 2.3868 - val_accuracy: 0.7875\n",
      "Epoch 86/100\n",
      " - 4s - loss: 0.0710 - accuracy: 0.9853 - val_loss: 2.3964 - val_accuracy: 0.7853\n",
      "Epoch 87/100\n",
      " - 4s - loss: 0.0711 - accuracy: 0.9859 - val_loss: 2.4145 - val_accuracy: 0.7843\n",
      "Epoch 88/100\n",
      " - 4s - loss: 0.0681 - accuracy: 0.9866 - val_loss: 2.4420 - val_accuracy: 0.7854\n",
      "Epoch 89/100\n",
      " - 4s - loss: 0.0712 - accuracy: 0.9852 - val_loss: 2.4702 - val_accuracy: 0.7846\n",
      "Epoch 90/100\n",
      " - 4s - loss: 0.0690 - accuracy: 0.9862 - val_loss: 2.4747 - val_accuracy: 0.7838\n",
      "Epoch 91/100\n",
      " - 4s - loss: 0.0668 - accuracy: 0.9870 - val_loss: 2.4888 - val_accuracy: 0.7844\n",
      "Epoch 92/100\n",
      " - 4s - loss: 0.0671 - accuracy: 0.9871 - val_loss: 2.5174 - val_accuracy: 0.7844\n",
      "Epoch 93/100\n",
      " - 4s - loss: 0.0700 - accuracy: 0.9852 - val_loss: 2.5252 - val_accuracy: 0.7843\n",
      "Epoch 94/100\n",
      " - 4s - loss: 0.0679 - accuracy: 0.9864 - val_loss: 2.5616 - val_accuracy: 0.7838\n",
      "Epoch 95/100\n",
      " - 4s - loss: 0.0735 - accuracy: 0.9837 - val_loss: 2.6152 - val_accuracy: 0.7810\n",
      "Epoch 96/100\n",
      " - 4s - loss: 0.0675 - accuracy: 0.9865 - val_loss: 2.5774 - val_accuracy: 0.7850\n",
      "Epoch 97/100\n",
      " - 4s - loss: 0.0706 - accuracy: 0.9850 - val_loss: 2.5740 - val_accuracy: 0.7860\n",
      "Epoch 98/100\n",
      " - 4s - loss: 0.0627 - accuracy: 0.9883 - val_loss: 2.5848 - val_accuracy: 0.7836\n",
      "Epoch 99/100\n",
      " - 4s - loss: 0.0594 - accuracy: 0.9896 - val_loss: 2.6073 - val_accuracy: 0.7867\n",
      "Epoch 100/100\n",
      " - 4s - loss: 0.0542 - accuracy: 0.9916 - val_loss: 2.6339 - val_accuracy: 0.7831\n"
     ]
    },
    {
     "data": {
      "text/plain": [
       "<keras.callbacks.callbacks.History at 0x7fc673014da0>"
      ]
     },
     "execution_count": 40,
     "metadata": {
      "tags": []
     },
     "output_type": "execute_result"
    }
   ],
   "source": [
    "learning_rate = 0.05726525291756939\n",
    "hidden_nodes = 256\n",
    "output_nodes = 10\n",
    "Lambda = 8.231254283285364e-05\n",
    "\n",
    "model = Sequential()\n",
    "model.add(Dense(hidden_nodes, input_shape=(1024,), activation='relu'))\n",
    "model.add(Dense(hidden_nodes, activation='relu'))\n",
    "model.add(Dense(output_nodes, activation='softmax', kernel_regularizer=regularizers.l2(Lambda)))\n",
    "\n",
    "sgd = optimizers.SGD(lr=learning_rate, decay=1e-6, momentum=0.9)\n",
    "# Compile model\n",
    "model.compile(loss='categorical_crossentropy', optimizer=sgd, metrics=['accuracy'])\n",
    "\n",
    "# Fit the model\n",
    "model.fit(X_train, y_train, validation_split = 0.20, epochs=100, shuffle = True, batch_size=1000, verbose= 2)"
   ]
  },
  {
   "cell_type": "code",
   "execution_count": 41,
   "metadata": {
    "colab": {
     "base_uri": "https://localhost:8080/",
     "height": 263
    },
    "colab_type": "code",
    "id": "oL_9TaRWKCtA",
    "outputId": "995df895-4af6-49a8-b512-3429aa7b3dad"
   },
   "outputs": [
    {
     "name": "stdout",
     "output_type": "stream",
     "text": [
      "Model: \"sequential_3\"\n",
      "_________________________________________________________________\n",
      "Layer (type)                 Output Shape              Param #   \n",
      "=================================================================\n",
      "dense_7 (Dense)              (None, 256)               262400    \n",
      "_________________________________________________________________\n",
      "dense_8 (Dense)              (None, 256)               65792     \n",
      "_________________________________________________________________\n",
      "dense_9 (Dense)              (None, 10)                2570      \n",
      "=================================================================\n",
      "Total params: 330,762\n",
      "Trainable params: 330,762\n",
      "Non-trainable params: 0\n",
      "_________________________________________________________________\n"
     ]
    }
   ],
   "source": [
    "model.summary()"
   ]
  },
  {
   "cell_type": "code",
   "execution_count": 42,
   "metadata": {
    "colab": {
     "base_uri": "https://localhost:8080/",
     "height": 52
    },
    "colab_type": "code",
    "id": "Z5IOtbqWKCtC",
    "outputId": "fa39ecc1-e159-47b8-b1ab-ed432aed49b5"
   },
   "outputs": [
    {
     "name": "stdout",
     "output_type": "stream",
     "text": [
      "18000/18000 [==============================] - 1s 46us/step\n",
      "Test accuracy:  0.8573333621025085\n"
     ]
    }
   ],
   "source": [
    "results = model.evaluate(X_test, y_test)\n",
    "print('Test accuracy: ', results[1])"
   ]
  },
  {
   "cell_type": "code",
   "execution_count": 43,
   "metadata": {
    "colab": {
     "base_uri": "https://localhost:8080/",
     "height": 299
    },
    "colab_type": "code",
    "id": "k-1qchK-KCtD",
    "outputId": "333bea62-ca3b-47d2-c546-e85bf97b1420"
   },
   "outputs": [
    {
     "name": "stdout",
     "output_type": "stream",
     "text": [
      "18000/18000 [==============================] - 1s 38us/step\n",
      "Accuracy: 0.8573333621025085\n",
      "Recall_score: 0.857126883928298\n",
      "Precision_score: 0.8588120391216251\n",
      "F-score: 0.857399888585852\n",
      "18000/18000 [==============================] - 1s 39us/step\n"
     ]
    },
    {
     "data": {
      "text/plain": [
       "array([[1611,   15,   20,   23,   15,    6,   26,   17,   41,   40],\n",
       "       [  25, 1540,   44,   42,   31,   11,   19,   59,   40,   17],\n",
       "       [  17,    9, 1603,   44,   14,    8,    6,   36,   41,   25],\n",
       "       [  15,   18,   50, 1417,    4,   83,   25,   30,   54,   23],\n",
       "       [  16,   45,   21,   27, 1563,   16,   36,   17,   38,   33],\n",
       "       [  16,    8,   17,   87,    8, 1467,   71,   11,   65,   18],\n",
       "       [  33,   15,   12,   21,   17,   47, 1556,   15,  104,   12],\n",
       "       [  12,   30,   46,   26,    6,   13,   13, 1632,    9,   21],\n",
       "       [  30,   24,   29,   42,    5,   21,   59,   10, 1555,   37],\n",
       "       [  59,   18,   36,   44,   17,   41,   13,   27,   61, 1488]])"
      ]
     },
     "execution_count": 43,
     "metadata": {
      "tags": []
     },
     "output_type": "execute_result"
    }
   ],
   "source": [
    "Y_pred_cls = model.predict_classes(X_test, batch_size=200, verbose=0)\n",
    "y_labels = np.argmax(y_test, axis=1)\n",
    "print('Accuracy: '+ str(model.evaluate(X_test,y_test)[1]))\n",
    "print('Recall_score: ' + str(recall_score(y_labels,Y_pred_cls, average='macro')))\n",
    "print('Precision_score: ' + str(precision_score(y_labels, Y_pred_cls, average='macro')))\n",
    "print('F-score: ' + str(f1_score(y_labels,Y_pred_cls, average='macro')))\n",
    "Score('NNDA', X_test,y_test, y_labels, Y_pred_cls)\n",
    "confusion_matrix(y_labels, Y_pred_cls)"
   ]
  },
  {
   "cell_type": "markdown",
   "metadata": {
    "colab_type": "text",
    "id": "m-5cHyZCunGi"
   },
   "source": [
    "#### Task: Implementing batch normalization for training the neural network with data augmentation"
   ]
  },
  {
   "cell_type": "code",
   "execution_count": 0,
   "metadata": {
    "colab": {},
    "colab_type": "code",
    "id": "Xu1bPCYCKCtF"
   },
   "outputs": [],
   "source": [
    "def train_and_test_loop_ht(iterations, lr, verb=True):\n",
    "\n",
    "    ## hyperparameters\n",
    "    iterations = iterations\n",
    "    learning_rate = lr\n",
    "    hidden_nodes = 256\n",
    "    output_nodes = 10\n",
    "\n",
    "    model = Sequential()\n",
    "    model.add(Dense(hidden_nodes, input_shape=(1024,), kernel_initializer='he_normal'))\n",
    "    model.add(BatchNormalization())\n",
    "    model.add(Activation('relu'))\n",
    "    model.add(Dense(hidden_nodes))\n",
    "    model.add(BatchNormalization())\n",
    "    model.add(Activation('relu'))\n",
    "    model.add(Dense(output_nodes))\n",
    "    model.add(Activation('softmax'))\n",
    "    \n",
    "    adam = optimizers.Adam(lr = lr)\n",
    "    model.compile(optimizer = adam, loss = 'categorical_crossentropy', metrics = ['accuracy'])\n",
    "    \n",
    "    # Fit the model\n",
    "    model.fit(X_train, y_train, epochs=iterations, batch_size=1000, verbose= 0)\n",
    "    score = model.evaluate(X_train, y_train, verbose=0)\n",
    "    \n",
    "    return score"
   ]
  },
  {
   "cell_type": "code",
   "execution_count": 0,
   "metadata": {
    "colab": {},
    "colab_type": "code",
    "id": "78sd4c2cKCtG"
   },
   "outputs": [],
   "source": [
    "# for k in range(1,11):\n",
    "#     lr = math.pow(10, np.random.uniform(-4.0, -1.0))\n",
    "#     best_acc = train_and_test_loop_ht(100, lr, False)\n",
    "#     print(\"Try {0}/{1}: Best_val_acc: {2}, lr: {3}\\n\".format(k, 10, best_acc, lr))"
   ]
  },
  {
   "cell_type": "markdown",
   "metadata": {},
   "source": [
    "* Batch Normalization & Adam optimizer applied \n",
    "* Multiple rounds of hyperparameter tuning completed\n",
    "* After completing above steps below learning rate was finalized for fourth Neural Network with batch normalization & data augmentation"
   ]
  },
  {
   "cell_type": "code",
   "execution_count": 46,
   "metadata": {
    "colab": {
     "base_uri": "https://localhost:8080/",
     "height": 1000
    },
    "colab_type": "code",
    "id": "inblMl1QKCtI",
    "outputId": "1ce89cf0-c8d1-4883-b408-a86cc8be770a"
   },
   "outputs": [
    {
     "name": "stdout",
     "output_type": "stream",
     "text": [
      "Train on 100800 samples, validate on 25200 samples\n",
      "Epoch 1/100\n",
      " - 5s - loss: 1.9588 - accuracy: 0.3544 - val_loss: 1.6636 - val_accuracy: 0.4906\n",
      "Epoch 2/100\n",
      " - 5s - loss: 1.3640 - accuracy: 0.6252 - val_loss: 1.2240 - val_accuracy: 0.6121\n",
      "Epoch 3/100\n",
      " - 5s - loss: 1.1089 - accuracy: 0.7065 - val_loss: 1.0590 - val_accuracy: 0.6617\n",
      "Epoch 4/100\n",
      " - 5s - loss: 0.9610 - accuracy: 0.7452 - val_loss: 0.9820 - val_accuracy: 0.6838\n",
      "Epoch 5/100\n",
      " - 5s - loss: 0.8551 - accuracy: 0.7707 - val_loss: 0.9299 - val_accuracy: 0.7061\n",
      "Epoch 6/100\n",
      " - 5s - loss: 0.7718 - accuracy: 0.7915 - val_loss: 0.8945 - val_accuracy: 0.7202\n",
      "Epoch 7/100\n",
      " - 5s - loss: 0.7061 - accuracy: 0.8075 - val_loss: 0.8760 - val_accuracy: 0.7277\n",
      "Epoch 8/100\n",
      " - 5s - loss: 0.6516 - accuracy: 0.8223 - val_loss: 0.8447 - val_accuracy: 0.7408\n",
      "Epoch 9/100\n",
      " - 5s - loss: 0.6068 - accuracy: 0.8341 - val_loss: 0.8428 - val_accuracy: 0.7459\n",
      "Epoch 10/100\n",
      " - 5s - loss: 0.5692 - accuracy: 0.8439 - val_loss: 0.8307 - val_accuracy: 0.7522\n",
      "Epoch 11/100\n",
      " - 5s - loss: 0.5357 - accuracy: 0.8524 - val_loss: 0.8180 - val_accuracy: 0.7585\n",
      "Epoch 12/100\n",
      " - 5s - loss: 0.5075 - accuracy: 0.8591 - val_loss: 0.8165 - val_accuracy: 0.7603\n",
      "Epoch 13/100\n",
      " - 5s - loss: 0.4825 - accuracy: 0.8664 - val_loss: 0.8106 - val_accuracy: 0.7631\n",
      "Epoch 14/100\n",
      " - 5s - loss: 0.4604 - accuracy: 0.8726 - val_loss: 0.8117 - val_accuracy: 0.7659\n",
      "Epoch 15/100\n",
      " - 5s - loss: 0.4400 - accuracy: 0.8773 - val_loss: 0.8087 - val_accuracy: 0.7683\n",
      "Epoch 16/100\n",
      " - 5s - loss: 0.4212 - accuracy: 0.8826 - val_loss: 0.8229 - val_accuracy: 0.7704\n",
      "Epoch 17/100\n",
      " - 5s - loss: 0.4034 - accuracy: 0.8876 - val_loss: 0.8215 - val_accuracy: 0.7713\n",
      "Epoch 18/100\n",
      " - 5s - loss: 0.3877 - accuracy: 0.8921 - val_loss: 0.8259 - val_accuracy: 0.7706\n",
      "Epoch 19/100\n",
      " - 5s - loss: 0.3730 - accuracy: 0.8968 - val_loss: 0.8382 - val_accuracy: 0.7698\n",
      "Epoch 20/100\n",
      " - 5s - loss: 0.3587 - accuracy: 0.9012 - val_loss: 0.8413 - val_accuracy: 0.7712\n",
      "Epoch 21/100\n",
      " - 5s - loss: 0.3475 - accuracy: 0.9031 - val_loss: 0.8401 - val_accuracy: 0.7748\n",
      "Epoch 22/100\n",
      " - 5s - loss: 0.3353 - accuracy: 0.9077 - val_loss: 0.8488 - val_accuracy: 0.7750\n",
      "Epoch 23/100\n",
      " - 5s - loss: 0.3211 - accuracy: 0.9123 - val_loss: 0.8637 - val_accuracy: 0.7744\n",
      "Epoch 24/100\n",
      " - 5s - loss: 0.3118 - accuracy: 0.9150 - val_loss: 0.8721 - val_accuracy: 0.7732\n",
      "Epoch 25/100\n",
      " - 5s - loss: 0.3004 - accuracy: 0.9169 - val_loss: 0.8820 - val_accuracy: 0.7749\n",
      "Epoch 26/100\n",
      " - 5s - loss: 0.2911 - accuracy: 0.9209 - val_loss: 0.8905 - val_accuracy: 0.7725\n",
      "Epoch 27/100\n",
      " - 5s - loss: 0.2817 - accuracy: 0.9230 - val_loss: 0.8956 - val_accuracy: 0.7725\n",
      "Epoch 28/100\n",
      " - 5s - loss: 0.2736 - accuracy: 0.9253 - val_loss: 0.9061 - val_accuracy: 0.7750\n",
      "Epoch 29/100\n",
      " - 5s - loss: 0.2634 - accuracy: 0.9285 - val_loss: 0.9060 - val_accuracy: 0.7770\n",
      "Epoch 30/100\n",
      " - 5s - loss: 0.2548 - accuracy: 0.9307 - val_loss: 0.9273 - val_accuracy: 0.7739\n",
      "Epoch 31/100\n",
      " - 5s - loss: 0.2471 - accuracy: 0.9332 - val_loss: 0.9570 - val_accuracy: 0.7745\n",
      "Epoch 32/100\n",
      " - 5s - loss: 0.2418 - accuracy: 0.9351 - val_loss: 0.9695 - val_accuracy: 0.7724\n",
      "Epoch 33/100\n",
      " - 5s - loss: 0.2323 - accuracy: 0.9389 - val_loss: 0.9835 - val_accuracy: 0.7706\n",
      "Epoch 34/100\n",
      " - 5s - loss: 0.2267 - accuracy: 0.9388 - val_loss: 0.9782 - val_accuracy: 0.7746\n",
      "Epoch 35/100\n",
      " - 5s - loss: 0.2196 - accuracy: 0.9423 - val_loss: 0.9835 - val_accuracy: 0.7765\n",
      "Epoch 36/100\n",
      " - 5s - loss: 0.2118 - accuracy: 0.9443 - val_loss: 1.0106 - val_accuracy: 0.7739\n",
      "Epoch 37/100\n",
      " - 5s - loss: 0.2070 - accuracy: 0.9458 - val_loss: 1.0123 - val_accuracy: 0.7779\n",
      "Epoch 38/100\n",
      " - 5s - loss: 0.2007 - accuracy: 0.9470 - val_loss: 1.0406 - val_accuracy: 0.7724\n",
      "Epoch 39/100\n",
      " - 5s - loss: 0.1939 - accuracy: 0.9491 - val_loss: 1.0383 - val_accuracy: 0.7750\n",
      "Epoch 40/100\n",
      " - 5s - loss: 0.1897 - accuracy: 0.9503 - val_loss: 1.0532 - val_accuracy: 0.7754\n",
      "Epoch 41/100\n",
      " - 5s - loss: 0.1842 - accuracy: 0.9524 - val_loss: 1.0696 - val_accuracy: 0.7729\n",
      "Epoch 42/100\n",
      " - 5s - loss: 0.1803 - accuracy: 0.9530 - val_loss: 1.0903 - val_accuracy: 0.7720\n",
      "Epoch 43/100\n",
      " - 5s - loss: 0.1748 - accuracy: 0.9548 - val_loss: 1.1057 - val_accuracy: 0.7700\n",
      "Epoch 44/100\n",
      " - 5s - loss: 0.1719 - accuracy: 0.9551 - val_loss: 1.1273 - val_accuracy: 0.7708\n",
      "Epoch 45/100\n",
      " - 5s - loss: 0.1648 - accuracy: 0.9571 - val_loss: 1.1370 - val_accuracy: 0.7707\n",
      "Epoch 46/100\n",
      " - 5s - loss: 0.1601 - accuracy: 0.9587 - val_loss: 1.1467 - val_accuracy: 0.7718\n",
      "Epoch 47/100\n",
      " - 5s - loss: 0.1554 - accuracy: 0.9600 - val_loss: 1.1870 - val_accuracy: 0.7673\n",
      "Epoch 48/100\n",
      " - 5s - loss: 0.1512 - accuracy: 0.9617 - val_loss: 1.1666 - val_accuracy: 0.7735\n",
      "Epoch 49/100\n",
      " - 5s - loss: 0.1474 - accuracy: 0.9631 - val_loss: 1.2138 - val_accuracy: 0.7669\n",
      "Epoch 50/100\n",
      " - 6s - loss: 0.1437 - accuracy: 0.9637 - val_loss: 1.2068 - val_accuracy: 0.7702\n",
      "Epoch 51/100\n",
      " - 7s - loss: 0.1389 - accuracy: 0.9654 - val_loss: 1.2112 - val_accuracy: 0.7724\n",
      "Epoch 52/100\n",
      " - 5s - loss: 0.1376 - accuracy: 0.9648 - val_loss: 1.2375 - val_accuracy: 0.7698\n",
      "Epoch 53/100\n",
      " - 5s - loss: 0.1338 - accuracy: 0.9662 - val_loss: 1.2571 - val_accuracy: 0.7708\n",
      "Epoch 54/100\n",
      " - 5s - loss: 0.1298 - accuracy: 0.9670 - val_loss: 1.2675 - val_accuracy: 0.7685\n",
      "Epoch 55/100\n",
      " - 5s - loss: 0.1289 - accuracy: 0.9675 - val_loss: 1.2934 - val_accuracy: 0.7692\n",
      "Epoch 56/100\n",
      " - 5s - loss: 0.1251 - accuracy: 0.9679 - val_loss: 1.3225 - val_accuracy: 0.7667\n",
      "Epoch 57/100\n",
      " - 5s - loss: 0.1195 - accuracy: 0.9702 - val_loss: 1.3151 - val_accuracy: 0.7673\n",
      "Epoch 58/100\n",
      " - 5s - loss: 0.1170 - accuracy: 0.9708 - val_loss: 1.3778 - val_accuracy: 0.7647\n",
      "Epoch 59/100\n",
      " - 5s - loss: 0.1152 - accuracy: 0.9713 - val_loss: 1.4009 - val_accuracy: 0.7627\n",
      "Epoch 60/100\n",
      " - 5s - loss: 0.1136 - accuracy: 0.9714 - val_loss: 1.3911 - val_accuracy: 0.7649\n",
      "Epoch 61/100\n",
      " - 5s - loss: 0.1095 - accuracy: 0.9723 - val_loss: 1.3785 - val_accuracy: 0.7652\n",
      "Epoch 62/100\n",
      " - 5s - loss: 0.1071 - accuracy: 0.9733 - val_loss: 1.4423 - val_accuracy: 0.7638\n",
      "Epoch 63/100\n",
      " - 5s - loss: 0.1068 - accuracy: 0.9728 - val_loss: 1.4233 - val_accuracy: 0.7677\n",
      "Epoch 64/100\n",
      " - 5s - loss: 0.1008 - accuracy: 0.9756 - val_loss: 1.4187 - val_accuracy: 0.7668\n",
      "Epoch 65/100\n",
      " - 5s - loss: 0.0982 - accuracy: 0.9759 - val_loss: 1.4249 - val_accuracy: 0.7683\n",
      "Epoch 66/100\n",
      " - 5s - loss: 0.0957 - accuracy: 0.9767 - val_loss: 1.5011 - val_accuracy: 0.7621\n",
      "Epoch 67/100\n",
      " - 5s - loss: 0.0960 - accuracy: 0.9762 - val_loss: 1.5078 - val_accuracy: 0.7635\n",
      "Epoch 68/100\n",
      " - 5s - loss: 0.0924 - accuracy: 0.9776 - val_loss: 1.4874 - val_accuracy: 0.7672\n",
      "Epoch 69/100\n",
      " - 5s - loss: 0.0912 - accuracy: 0.9779 - val_loss: 1.5617 - val_accuracy: 0.7627\n",
      "Epoch 70/100\n",
      " - 5s - loss: 0.0896 - accuracy: 0.9779 - val_loss: 1.5301 - val_accuracy: 0.7678\n",
      "Epoch 71/100\n",
      " - 5s - loss: 0.0865 - accuracy: 0.9791 - val_loss: 1.5505 - val_accuracy: 0.7654\n",
      "Epoch 72/100\n",
      " - 5s - loss: 0.0879 - accuracy: 0.9779 - val_loss: 1.5553 - val_accuracy: 0.7678\n",
      "Epoch 73/100\n",
      " - 5s - loss: 0.0843 - accuracy: 0.9789 - val_loss: 1.6051 - val_accuracy: 0.7644\n",
      "Epoch 74/100\n",
      " - 5s - loss: 0.0821 - accuracy: 0.9802 - val_loss: 1.5995 - val_accuracy: 0.7663\n",
      "Epoch 75/100\n",
      " - 5s - loss: 0.0797 - accuracy: 0.9809 - val_loss: 1.5888 - val_accuracy: 0.7685\n",
      "Epoch 76/100\n",
      " - 5s - loss: 0.0788 - accuracy: 0.9808 - val_loss: 1.6823 - val_accuracy: 0.7618\n",
      "Epoch 77/100\n",
      " - 5s - loss: 0.0753 - accuracy: 0.9825 - val_loss: 1.6614 - val_accuracy: 0.7637\n",
      "Epoch 78/100\n",
      " - 5s - loss: 0.0757 - accuracy: 0.9819 - val_loss: 1.7075 - val_accuracy: 0.7623\n",
      "Epoch 79/100\n",
      " - 5s - loss: 0.0744 - accuracy: 0.9819 - val_loss: 1.7053 - val_accuracy: 0.7620\n",
      "Epoch 80/100\n",
      " - 5s - loss: 0.0726 - accuracy: 0.9825 - val_loss: 1.7126 - val_accuracy: 0.7631\n",
      "Epoch 81/100\n",
      " - 5s - loss: 0.0693 - accuracy: 0.9835 - val_loss: 1.7401 - val_accuracy: 0.7651\n",
      "Epoch 82/100\n",
      " - 5s - loss: 0.0690 - accuracy: 0.9831 - val_loss: 1.7416 - val_accuracy: 0.7654\n",
      "Epoch 83/100\n",
      " - 5s - loss: 0.0683 - accuracy: 0.9833 - val_loss: 1.7659 - val_accuracy: 0.7633\n",
      "Epoch 84/100\n",
      " - 5s - loss: 0.0701 - accuracy: 0.9825 - val_loss: 1.7799 - val_accuracy: 0.7656\n",
      "Epoch 85/100\n",
      " - 5s - loss: 0.0663 - accuracy: 0.9838 - val_loss: 1.7757 - val_accuracy: 0.7642\n",
      "Epoch 86/100\n",
      " - 5s - loss: 0.0630 - accuracy: 0.9849 - val_loss: 1.8135 - val_accuracy: 0.7634\n",
      "Epoch 87/100\n",
      " - 5s - loss: 0.0644 - accuracy: 0.9844 - val_loss: 1.8662 - val_accuracy: 0.7611\n",
      "Epoch 88/100\n",
      " - 5s - loss: 0.0635 - accuracy: 0.9842 - val_loss: 1.8428 - val_accuracy: 0.7612\n",
      "Epoch 89/100\n",
      " - 5s - loss: 0.0630 - accuracy: 0.9845 - val_loss: 1.8672 - val_accuracy: 0.7622\n",
      "Epoch 90/100\n",
      " - 5s - loss: 0.0580 - accuracy: 0.9866 - val_loss: 1.8948 - val_accuracy: 0.7621\n",
      "Epoch 91/100\n",
      " - 5s - loss: 0.0597 - accuracy: 0.9854 - val_loss: 1.9005 - val_accuracy: 0.7609\n",
      "Epoch 92/100\n",
      " - 5s - loss: 0.0579 - accuracy: 0.9858 - val_loss: 1.9076 - val_accuracy: 0.7628\n",
      "Epoch 93/100\n",
      " - 5s - loss: 0.0592 - accuracy: 0.9852 - val_loss: 1.8835 - val_accuracy: 0.7635\n",
      "Epoch 94/100\n",
      " - 5s - loss: 0.0568 - accuracy: 0.9861 - val_loss: 1.9182 - val_accuracy: 0.7658\n",
      "Epoch 95/100\n",
      " - 5s - loss: 0.0551 - accuracy: 0.9869 - val_loss: 1.9422 - val_accuracy: 0.7626\n",
      "Epoch 96/100\n",
      " - 5s - loss: 0.0552 - accuracy: 0.9865 - val_loss: 1.9457 - val_accuracy: 0.7634\n",
      "Epoch 97/100\n",
      " - 5s - loss: 0.0583 - accuracy: 0.9848 - val_loss: 1.9626 - val_accuracy: 0.7647\n",
      "Epoch 98/100\n",
      " - 5s - loss: 0.0520 - accuracy: 0.9874 - val_loss: 1.9747 - val_accuracy: 0.7635\n",
      "Epoch 99/100\n",
      " - 5s - loss: 0.0521 - accuracy: 0.9877 - val_loss: 2.0110 - val_accuracy: 0.7645\n",
      "Epoch 100/100\n",
      " - 5s - loss: 0.0523 - accuracy: 0.9874 - val_loss: 2.0064 - val_accuracy: 0.7642\n"
     ]
    },
    {
     "data": {
      "text/plain": [
       "<keras.callbacks.callbacks.History at 0x7fc672eb7f28>"
      ]
     },
     "execution_count": 46,
     "metadata": {
      "tags": []
     },
     "output_type": "execute_result"
    }
   ],
   "source": [
    "learning_rate = 0.0001171682966818011\n",
    "hidden_nodes = 256\n",
    "output_nodes = 10\n",
    "\n",
    "model = Sequential()\n",
    "model.add(Dense(hidden_nodes, input_shape=(1024,), kernel_initializer='he_normal'))\n",
    "model.add(BatchNormalization())\n",
    "model.add(Activation('relu'))\n",
    "model.add(Dense(hidden_nodes))\n",
    "model.add(BatchNormalization())\n",
    "model.add(Activation('relu'))\n",
    "model.add(Dense(output_nodes))\n",
    "model.add(Activation('softmax'))\n",
    "\n",
    "adam = optimizers.Adam(lr = learning_rate)\n",
    "model.compile(optimizer = adam, loss = 'categorical_crossentropy', metrics = ['accuracy'])\n",
    "\n",
    "# Fit the model\n",
    "model.fit(X_train, y_train, validation_split = 0.20, epochs=100, shuffle = True, batch_size=1000, verbose= 2)"
   ]
  },
  {
   "cell_type": "code",
   "execution_count": 47,
   "metadata": {
    "colab": {
     "base_uri": "https://localhost:8080/",
     "height": 439
    },
    "colab_type": "code",
    "id": "_ym2FDEkKCtK",
    "outputId": "1d9af222-8c2e-4931-befb-66909a4f4a01"
   },
   "outputs": [
    {
     "name": "stdout",
     "output_type": "stream",
     "text": [
      "Model: \"sequential_4\"\n",
      "_________________________________________________________________\n",
      "Layer (type)                 Output Shape              Param #   \n",
      "=================================================================\n",
      "dense_10 (Dense)             (None, 256)               262400    \n",
      "_________________________________________________________________\n",
      "batch_normalization_3 (Batch (None, 256)               1024      \n",
      "_________________________________________________________________\n",
      "activation_4 (Activation)    (None, 256)               0         \n",
      "_________________________________________________________________\n",
      "dense_11 (Dense)             (None, 256)               65792     \n",
      "_________________________________________________________________\n",
      "batch_normalization_4 (Batch (None, 256)               1024      \n",
      "_________________________________________________________________\n",
      "activation_5 (Activation)    (None, 256)               0         \n",
      "_________________________________________________________________\n",
      "dense_12 (Dense)             (None, 10)                2570      \n",
      "_________________________________________________________________\n",
      "activation_6 (Activation)    (None, 10)                0         \n",
      "=================================================================\n",
      "Total params: 332,810\n",
      "Trainable params: 331,786\n",
      "Non-trainable params: 1,024\n",
      "_________________________________________________________________\n"
     ]
    }
   ],
   "source": [
    "model.summary()"
   ]
  },
  {
   "cell_type": "code",
   "execution_count": 48,
   "metadata": {
    "colab": {
     "base_uri": "https://localhost:8080/",
     "height": 52
    },
    "colab_type": "code",
    "id": "WV1TrMvLKCtM",
    "outputId": "364d0bb6-93c0-40cc-c271-3c603e0bd194"
   },
   "outputs": [
    {
     "name": "stdout",
     "output_type": "stream",
     "text": [
      "18000/18000 [==============================] - 1s 53us/step\n",
      "Test accuracy:  0.8172777891159058\n"
     ]
    }
   ],
   "source": [
    "results = model.evaluate(X_test, y_test)\n",
    "print('Test accuracy: ', results[1])"
   ]
  },
  {
   "cell_type": "code",
   "execution_count": 49,
   "metadata": {
    "colab": {
     "base_uri": "https://localhost:8080/",
     "height": 299
    },
    "colab_type": "code",
    "id": "UAe-OHtdKCtN",
    "outputId": "061e312c-2c36-4e6c-f07b-6a05c1b71905"
   },
   "outputs": [
    {
     "name": "stdout",
     "output_type": "stream",
     "text": [
      "18000/18000 [==============================] - 1s 53us/step\n",
      "Accuracy: 0.8172777891159058\n",
      "Recall_score: 0.8175374298264956\n",
      "Precision_score: 0.8329700016140714\n",
      "F-score: 0.8196344612152201\n",
      "18000/18000 [==============================] - 1s 51us/step\n"
     ]
    },
    {
     "data": {
      "text/plain": [
       "array([[1556,   24,    7,   38,   15,    7,    7,   10,   12,  138],\n",
       "       [  29, 1515,   15,   73,   35,   16,   10,   44,   12,   79],\n",
       "       [  28,   21, 1482,   76,   19,   11,    1,   38,   23,  104],\n",
       "       [  15,   14,   16, 1464,   11,   77,   11,   21,   18,   72],\n",
       "       [  19,   56,   23,   50, 1494,   23,   17,   11,   13,  106],\n",
       "       [  13,   12,    5,  156,    8, 1428,   21,   12,   21,   92],\n",
       "       [  61,   19,   12,   57,   23,  120, 1363,   18,   79,   80],\n",
       "       [  31,   60,   46,   73,    9,   11,    4, 1498,   12,   64],\n",
       "       [  41,   30,   13,  149,   11,   52,   29,    4, 1292,  191],\n",
       "       [  28,   16,   12,   48,   14,   30,    9,   16,   12, 1619]])"
      ]
     },
     "execution_count": 49,
     "metadata": {
      "tags": []
     },
     "output_type": "execute_result"
    }
   ],
   "source": [
    "Y_pred_cls = model.predict_classes(X_test, batch_size=200, verbose=0)\n",
    "y_labels = np.argmax(y_test, axis=1)\n",
    "print('Accuracy: '+ str(model.evaluate(X_test,y_test)[1]))\n",
    "print('Recall_score: ' + str(recall_score(y_labels,Y_pred_cls, average='macro')))\n",
    "print('Precision_score: ' + str(precision_score(y_labels, Y_pred_cls, average='macro')))\n",
    "print('F-score: ' + str(f1_score(y_labels,Y_pred_cls, average='macro')))\n",
    "Score('NNBNDA', X_test,y_test, y_labels, Y_pred_cls)\n",
    "confusion_matrix(y_labels, Y_pred_cls)"
   ]
  },
  {
   "cell_type": "markdown",
   "metadata": {
    "colab_type": "text",
    "id": "YYpCcz1sunGs"
   },
   "source": [
    "#### Task: Print the classification accuracy metrics"
   ]
  },
  {
   "cell_type": "code",
   "execution_count": 50,
   "metadata": {
    "colab": {
     "base_uri": "https://localhost:8080/",
     "height": 203
    },
    "colab_type": "code",
    "id": "Tt9WEk1hunGt",
    "outputId": "64b38e9a-0a40-44fd-fb9d-7b0d57c82272"
   },
   "outputs": [
    {
     "data": {
      "text/html": [
       "<div>\n",
       "<style scoped>\n",
       "    .dataframe tbody tr th:only-of-type {\n",
       "        vertical-align: middle;\n",
       "    }\n",
       "\n",
       "    .dataframe tbody tr th {\n",
       "        vertical-align: top;\n",
       "    }\n",
       "\n",
       "    .dataframe thead th {\n",
       "        text-align: right;\n",
       "    }\n",
       "</style>\n",
       "<table border=\"1\" class=\"dataframe\">\n",
       "  <thead>\n",
       "    <tr style=\"text-align: right;\">\n",
       "      <th></th>\n",
       "      <th>NN</th>\n",
       "      <th>NNBN</th>\n",
       "      <th>NNDA</th>\n",
       "      <th>NNBNDA</th>\n",
       "    </tr>\n",
       "    <tr>\n",
       "      <th>Metrics</th>\n",
       "      <th></th>\n",
       "      <th></th>\n",
       "      <th></th>\n",
       "      <th></th>\n",
       "    </tr>\n",
       "  </thead>\n",
       "  <tbody>\n",
       "    <tr>\n",
       "      <th>Accuracy</th>\n",
       "      <td>0.8357222080230713</td>\n",
       "      <td>0.8146666884422302</td>\n",
       "      <td>0.8573333621025085</td>\n",
       "      <td>0.8172777891159058</td>\n",
       "    </tr>\n",
       "    <tr>\n",
       "      <th>Precision</th>\n",
       "      <td>0.8379401971779197</td>\n",
       "      <td>0.8220514983678102</td>\n",
       "      <td>0.8588120391216251</td>\n",
       "      <td>0.8329700016140714</td>\n",
       "    </tr>\n",
       "    <tr>\n",
       "      <th>Recall</th>\n",
       "      <td>0.8355198542572433</td>\n",
       "      <td>0.8146233095623353</td>\n",
       "      <td>0.857126883928298</td>\n",
       "      <td>0.8175374298264956</td>\n",
       "    </tr>\n",
       "    <tr>\n",
       "      <th>F1 Score</th>\n",
       "      <td>0.8358035411444584</td>\n",
       "      <td>0.815625369039197</td>\n",
       "      <td>0.857399888585852</td>\n",
       "      <td>0.8196344612152201</td>\n",
       "    </tr>\n",
       "  </tbody>\n",
       "</table>\n",
       "</div>"
      ],
      "text/plain": [
       "                           NN  ...              NNBNDA\n",
       "Metrics                        ...                    \n",
       "Accuracy   0.8357222080230713  ...  0.8172777891159058\n",
       "Precision  0.8379401971779197  ...  0.8329700016140714\n",
       "Recall     0.8355198542572433  ...  0.8175374298264956\n",
       "F1 Score   0.8358035411444584  ...  0.8196344612152201\n",
       "\n",
       "[4 rows x 4 columns]"
      ]
     },
     "execution_count": 50,
     "metadata": {
      "tags": []
     },
     "output_type": "execute_result"
    }
   ],
   "source": [
    "df_Accuracy_Score.set_index('Metrics')"
   ]
  },
  {
   "cell_type": "markdown",
   "metadata": {},
   "source": [
    "#### Summary\n",
    "Four models were created\n",
    "* Neural Network (NN)\n",
    "* Neural Network with Batch Normalization (NNBN)\n",
    "* Neural Network with Data Augmentation (NNDA)\n",
    "* Neural Network with Batch Normalization & Data Augmentation (NNBNDA)\n",
    "* Out of the four models neural network with data augmentation appears to be performing better with 85.7% accuracy on test data\n",
    "* Model is still overfit and further exploration can lead to better performance"
   ]
  }
 ],
 "metadata": {
  "colab": {
   "collapsed_sections": [],
   "name": "Project_Neural_Networks_Sanju_Mathew.ipynb",
   "provenance": []
  },
  "kernelspec": {
   "display_name": "Python 3",
   "language": "python",
   "name": "python3"
  },
  "language_info": {
   "codemirror_mode": {
    "name": "ipython",
    "version": 3
   },
   "file_extension": ".py",
   "mimetype": "text/x-python",
   "name": "python",
   "nbconvert_exporter": "python",
   "pygments_lexer": "ipython3",
   "version": "3.7.3"
  }
 },
 "nbformat": 4,
 "nbformat_minor": 1
}
